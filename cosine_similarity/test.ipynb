{
 "cells": [
  {
   "cell_type": "code",
   "execution_count": 4,
   "metadata": {},
   "outputs": [],
   "source": [
    "import json\n",
    "\n",
    "palette_path = r\"color_classification\\jsonl\\five_colors_palette.jsonl\"\n",
    "with open(palette_path, 'r') as colors_path:\n",
    "    palettes = [json.loads(line)['palette'] for line in colors_path]\n",
    "len_colors = [len(cur) for cur in palettes]"
   ]
  },
  {
   "cell_type": "code",
   "execution_count": 11,
   "metadata": {},
   "outputs": [],
   "source": [
    "palettes_5 = [cur for cur in palettes if len(cur) == 5]"
   ]
  },
  {
   "cell_type": "code",
   "execution_count": 13,
   "metadata": {},
   "outputs": [],
   "source": [
    "import numpy as np\n",
    "np_palettes = np.array(palettes_5)+1"
   ]
  },
  {
   "cell_type": "code",
   "execution_count": 21,
   "metadata": {},
   "outputs": [],
   "source": [
    "import numpy as np\n",
    "\n",
    "def cosine_similarity_matrix(matrix1, matrix2):\n",
    "\n",
    "    # 행렬 정규화\n",
    "    norm_matrix1 = np.linalg.norm(matrix1, axis=1, keepdims=True)\n",
    "    norm_matrix2 = np.linalg.norm(matrix2, axis=1, keepdims=True)\n",
    "\n",
    "    # 정규화된 행렬로 나누어주기\n",
    "    normalized_matrix1 = matrix1 / norm_matrix1\n",
    "    normalized_matrix2 = matrix2 / norm_matrix2\n",
    "\n",
    "    # 내적 계산\n",
    "    dot_products = np.dot(normalized_matrix1, normalized_matrix2[0].T)\n",
    "\n",
    "    # 각 라인에 대한 코사인 유사도 계산\n",
    "    similarities = np.diag(dot_products)\n",
    "\n",
    "    return similarities\n"
   ]
  },
  {
   "cell_type": "code",
   "execution_count": 19,
   "metadata": {},
   "outputs": [],
   "source": [
    "np_palettes_flatten = np_palettes.reshape([-1,15])"
   ]
  },
  {
   "cell_type": "code",
   "execution_count": 28,
   "metadata": {},
   "outputs": [
    {
     "name": "stderr",
     "output_type": "stream",
     "text": [
      "C:\\Users\\mlfav\\AppData\\Local\\Temp\\ipykernel_22728\\1770920487.py:10: RuntimeWarning: invalid value encountered in divide\n",
      "  normalized_matrix1 = matrix1 / norm_matrix1\n",
      "C:\\Users\\mlfav\\AppData\\Local\\Temp\\ipykernel_22728\\1770920487.py:11: RuntimeWarning: invalid value encountered in divide\n",
      "  normalized_matrix2 = matrix2 / norm_matrix2\n"
     ]
    },
    {
     "data": {
      "text/plain": [
       "array([[0.        , 0.49526635, 0.        , ..., 0.        , 0.        ,\n",
       "        0.        ],\n",
       "       [0.        , 0.        , 0.81873804, ..., 0.        , 0.        ,\n",
       "        0.        ],\n",
       "       [0.        , 0.        , 0.        , ..., 0.        , 0.        ,\n",
       "        0.        ],\n",
       "       ...,\n",
       "       [0.        , 0.        , 0.        , ..., 0.84950415, 0.        ,\n",
       "        0.        ],\n",
       "       [0.        , 0.        , 0.        , ..., 0.        , 0.8405791 ,\n",
       "        0.        ],\n",
       "       [0.        , 0.        , 0.        , ..., 0.        , 0.        ,\n",
       "        0.64960019]])"
      ]
     },
     "execution_count": 28,
     "metadata": {},
     "output_type": "execute_result"
    }
   ],
   "source": [
    "cosine_similarity_matrix(np_palettes_flatten, np_palettes_flatten)[1:]"
   ]
  },
  {
   "cell_type": "code",
   "execution_count": null,
   "metadata": {},
   "outputs": [],
   "source": []
  }
 ],
 "metadata": {
  "kernelspec": {
   "display_name": "kjk_py39",
   "language": "python",
   "name": "python3"
  },
  "language_info": {
   "codemirror_mode": {
    "name": "ipython",
    "version": 3
   },
   "file_extension": ".py",
   "mimetype": "text/x-python",
   "name": "python",
   "nbconvert_exporter": "python",
   "pygments_lexer": "ipython3",
   "version": "3.9.15"
  }
 },
 "nbformat": 4,
 "nbformat_minor": 2
}

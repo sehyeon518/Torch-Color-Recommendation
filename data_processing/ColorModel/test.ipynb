{
 "cells": [
  {
   "cell_type": "code",
   "execution_count": 1,
   "metadata": {},
   "outputs": [
    {
     "name": "stderr",
     "output_type": "stream",
     "text": [
      "c:\\Users\\mlfav\\anaconda3\\envs\\kjk_py39\\lib\\site-packages\\tqdm\\auto.py:21: TqdmWarning: IProgress not found. Please update jupyter and ipywidgets. See https://ipywidgets.readthedocs.io/en/stable/user_install.html\n",
      "  from .autonotebook import tqdm as notebook_tqdm\n"
     ]
    }
   ],
   "source": [
    "import torch\n",
    "from datasets import load_dataset\n",
    "from torch.utils.data import DataLoader\n",
    "from Model.model import LassoModel"
   ]
  },
  {
   "cell_type": "code",
   "execution_count": 6,
   "metadata": {},
   "outputs": [],
   "source": [
    "PATH = './Model/model.pt'"
   ]
  },
  {
   "cell_type": "code",
   "execution_count": 7,
   "metadata": {},
   "outputs": [
    {
     "data": {
      "text/plain": [
       "<All keys matched successfully>"
      ]
     },
     "execution_count": 7,
     "metadata": {},
     "output_type": "execute_result"
    }
   ],
   "source": [
    "load_model = torch.load(PATH)\n",
    "model = LassoModel(119)\n",
    "model.load_state_dict(load_model)"
   ]
  },
  {
   "cell_type": "code",
   "execution_count": 8,
   "metadata": {},
   "outputs": [
    {
     "data": {
      "text/plain": [
       "LassoModel(\n",
       "  (normalize): LayerNorm((119,), eps=1e-05, elementwise_affine=True)\n",
       "  (hidden1): Linear(in_features=119, out_features=64, bias=True)\n",
       "  (hidden2): Linear(in_features=64, out_features=32, bias=True)\n",
       "  (linear): Linear(in_features=32, out_features=12, bias=True)\n",
       ")"
      ]
     },
     "execution_count": 8,
     "metadata": {},
     "output_type": "execute_result"
    }
   ],
   "source": [
    "model.eval()"
   ]
  },
  {
   "cell_type": "code",
   "execution_count": 48,
   "metadata": {},
   "outputs": [
    {
     "data": {
      "text/plain": [
       "tensor([ 4.0000e+01,  5.4000e+01,  2.4000e+01,  9.6000e+01,  1.0800e+02,\n",
       "         5.6000e+01,  2.2100e+02,  1.6100e+02,  9.4000e+01,  2.5400e+02,\n",
       "         2.5000e+02,  2.2400e+02,  8.8000e+01,  5.5556e+01,  2.1176e+01,\n",
       "         7.3846e+01,  4.8148e+01,  4.2353e+01,  3.1654e+01,  5.7466e+01,\n",
       "         8.6667e+01,  5.2000e+01,  1.1811e+01,  9.9608e+01,  2.0656e+01,\n",
       "        -1.2149e+01,  1.6924e+01,  4.3503e+01, -1.3557e+01,  2.7463e+01,\n",
       "         7.0645e+01,  1.5030e+01,  4.3230e+01,  9.7963e+01, -2.9540e+00,\n",
       "         1.2952e+01,  1.5275e+02,  8.7811e+01,  1.5850e+02,  2.5400e+02,\n",
       "         4.0000e+01,  2.1400e+02,  1.4325e+02,  7.2317e+01,  1.3450e+02,\n",
       "         2.5000e+02,  5.4000e+01,  1.9600e+02,  9.9500e+01,  7.6031e+01,\n",
       "         7.5000e+01,  2.2400e+02,  2.4000e+01,  2.0000e+02,  6.1375e+01,\n",
       "         2.1422e+01,  6.2923e+01,  8.8000e+01,  3.1654e+01,  5.6346e+01,\n",
       "         4.3245e+01,  1.8479e+01,  5.1852e+01,  5.7466e+01,  1.1811e+01,\n",
       "         4.5655e+01,  6.2451e+01,  3.1916e+01,  6.4510e+01,  9.9608e+01,\n",
       "         2.1176e+01,  7.8432e+01,  5.8192e+01,  2.8989e+01,  5.7074e+01,\n",
       "         9.7963e+01,  2.0656e+01,  7.7307e+01, -3.4080e+00,  1.1397e+01,\n",
       "        -7.5520e+00,  1.5030e+01, -1.3557e+01,  2.8587e+01,  2.5142e+01,\n",
       "         1.1712e+01,  2.2194e+01,  4.3230e+01,  1.2952e+01,  3.0278e+01,\n",
       "         6.6000e-02,  5.2000e-02,  1.5700e-01,  0.0000e+00, -2.5340e+00,\n",
       "         4.7500e-01, -1.8520e+00, -3.2440e+00,  8.9000e-02,  4.0000e-02,\n",
       "         1.5700e-01,  3.9000e-02, -2.5340e+00,  4.7500e-01, -1.8520e+00,\n",
       "        -3.2440e+00,  2.0000e+00,  2.6100e-01, -2.7500e-01,  1.9000e-01,\n",
       "        -3.0000e-03,  7.3600e-01,  1.6915e+02,  2.2847e+01,  2.7142e+01,\n",
       "         2.7318e+01, -1.4154e+01, -4.2192e+01,  2.0346e+01])"
      ]
     },
     "execution_count": 48,
     "metadata": {},
     "output_type": "execute_result"
    }
   ],
   "source": [
    "import numpy as np\n",
    "from colorspace_converter import rgb_to_hsv, rgb_to_lab\n",
    "from calculate_statistics import *\n",
    "import itertools\n",
    "\n",
    "input_color = np.array([[96, 108, 56], [40, 54, 24], [254, 250, 224], [221, 161, 94]])\n",
    "RGB = np.empty((4,3), dtype=float)\n",
    "HSV = np.empty((4,3), dtype=float)\n",
    "LAB = np.empty((4,3), dtype=float)\n",
    "\n",
    "for idx, color in enumerate(input_color):\n",
    "    r, g, b = color\n",
    "    RGB[idx] = np.array(color).reshape((1, 3))\n",
    "    HSV[idx] = np.array([rgb_to_hsv(r, g, b)]).reshape((1, 3))\n",
    "    LAB[idx] = np.array([rgb_to_lab(r, g, b)]).reshape((1, 3))\n",
    "\n",
    "sorting_indices = np.argsort(LAB[:, 0])\n",
    "RGB = RGB[sorting_indices]\n",
    "HSV = HSV[sorting_indices]\n",
    "LAB = LAB[sorting_indices] \n",
    "\n",
    "RGB_R, RGB_G, RGB_B = RGB[:, 0], RGB[:, 1], RGB[:, 2]\n",
    "HSV_H, HSV_S, HSV_V = HSV[:, 0], HSV[:, 1], HSV[:, 2]\n",
    "LAB_L, LAB_A, LAB_B = LAB[:, 0], LAB[:, 1], LAB[:, 2]\n",
    "\n",
    "hue_probabilities = []\n",
    "for color in HSV_H:\n",
    "    probabilities = hue_probability(color, HSV)\n",
    "    hue_probabilities.append(probabilities)\n",
    "\n",
    "adjacent_probabilities = []\n",
    "for i in range(len(RGB)):\n",
    "    for j in range(i + 1, len(RGB)):\n",
    "        color_b = HSV_H[i]\n",
    "        color_c = HSV_H[j]\n",
    "        adjacent_probabilities.append(hue_adjacent_probability(color_b, color_c, threshold=30))\n",
    "\n",
    "all_CH_values = []\n",
    "LCH_array = np.column_stack([LAB_L, LAB_A, HSV_H])\n",
    "for color1, color2 in itertools.combinations(LCH_array, 2):\n",
    "    L1, C1, H1 = color1\n",
    "    L2, C2, H2 = color2\n",
    "    CH_value = calculate_CH(L1, C1, H1, L2, C2, H2)\n",
    "    all_CH_values.append(CH_value)\n",
    "\n",
    "RGB_feature = [calculate_statistics(RGB_R), calculate_statistics(RGB_G), calculate_statistics(RGB_B)]\n",
    "HSV_feature = [calculate_statistics(HSV_H), calculate_statistics(HSV_S), calculate_statistics(HSV_V)]\n",
    "LAB_feature = [calculate_statistics(LAB_L), calculate_statistics(LAB_A), calculate_statistics(LAB_B)]\n",
    "Hue_probability = [calculate_hsv_statistics(hue_probabilities)]\n",
    "Hue_Log_probability = [calculate_hsv_statistics(hue_probabilities, True)]\n",
    "Hue_adjacent_probability = [calculate_hsv_statistics(adjacent_probabilities)]\n",
    "Hue_Log_adjacent_probability = [calculate_hsv_statistics(adjacent_probabilities, True)]\n",
    "Hue_entropy = [[calculate_hue_entropy(HSV)]]\n",
    "CH = [all_CH_values]\n",
    "Light_gradient = [calculate_gradient(LAB_L).tolist()]\n",
    "Hue_gradient = [calculate_gradient(HSV_H).tolist()]\n",
    "RGB = RGB.tolist()\n",
    "HSV = HSV.tolist()\n",
    "CIELAB = LAB.tolist()\n",
    "input_data = sum((RGB, HSV, CIELAB, RGB_feature, HSV_feature, LAB_feature, Hue_probability, Hue_Log_probability, Hue_adjacent_probability, Hue_Log_adjacent_probability, Hue_entropy, CH, Light_gradient, Hue_gradient), [])\n",
    "input_data = [[element for sublist in input_data for element in sublist]]\n",
    "input_data = torch.flatten(torch.tensor(input_data, dtype=torch.float32))\n",
    "\n",
    "input_data"
   ]
  },
  {
   "cell_type": "code",
   "execution_count": 51,
   "metadata": {},
   "outputs": [],
   "source": [
    "import matplotlib.pyplot as plt\n",
    "import colorsys"
   ]
  },
  {
   "cell_type": "code",
   "execution_count": 55,
   "metadata": {},
   "outputs": [
    {
     "name": "stdout",
     "output_type": "stream",
     "text": [
      "[[ 40  54  24]\n",
      " [ 96 108  56]\n",
      " [221 161  94]\n",
      " [254 250 224]]\n"
     ]
    },
    {
     "data": {
      "image/png": "[encoded data removed]",
      "text/plain": [
       "<Figure size 640x480 with 2 Axes>"
      ]
     },
     "metadata": {},
     "output_type": "display_data"
    }
   ],
   "source": [
    "\n",
    "def hsv_to_rgb(hsv_array):\n",
    "    rgb_array = np.zeros_like(hsv_array)\n",
    "    for i in range(hsv_array.shape[0]):\n",
    "        h, s, v = hsv_array[i] / np.array([360, 100, 100])\n",
    "        r, g, b = colorsys.hsv_to_rgb(h.item(), s.item(), v.item())\n",
    "        rgb_array[i] = np.array([int(r*255), int(g*255), int(b*255)])\n",
    "\n",
    "    return rgb_array\n",
    "\n",
    "with torch.no_grad():\n",
    "    output = model(input_data)\n",
    "\n",
    "    x = input_data[:12].type(torch.int).numpy().reshape(4,3)\n",
    "    print(x)\n",
    "    plt.subplot(1, 2, 1)\n",
    "    plt.imshow([x])\n",
    "    plt.axis(False)\n",
    "    \n",
    "    plt.subplot(1, 2, 2)\n",
    "    y = output.type(torch.int).numpy().reshape((4,3))\n",
    "    y = hsv_to_rgb(y).reshape((4,3))\n",
    "    plt.imshow([y.reshape((4,3))])\n",
    "    plt.axis(False)"
   ]
  },
  {
   "cell_type": "code",
   "execution_count": null,
   "metadata": {},
   "outputs": [],
   "source": []
  }
 ],
 "metadata": {
  "kernelspec": {
   "display_name": "kjk_py39",
   "language": "python",
   "name": "python3"
  },
  "language_info": {
   "codemirror_mode": {
    "name": "ipython",
    "version": 3
   },
   "file_extension": ".py",
   "mimetype": "text/x-python",
   "name": "python",
   "nbconvert_exporter": "python",
   "pygments_lexer": "ipython3",
   "version": "3.9.15"
  }
 },
 "nbformat": 4,
 "nbformat_minor": 2
}

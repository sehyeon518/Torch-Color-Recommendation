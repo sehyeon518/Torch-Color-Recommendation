{
 "cells": [
  {
   "cell_type": "code",
   "execution_count": 1,
   "metadata": {},
   "outputs": [
    {
     "name": "stderr",
     "output_type": "stream",
     "text": [
      "c:\\Users\\mlfav\\anaconda3\\envs\\kjk_py39\\lib\\site-packages\\tqdm\\auto.py:21: TqdmWarning: IProgress not found. Please update jupyter and ipywidgets. See https://ipywidgets.readthedocs.io/en/stable/user_install.html\n",
      "  from .autonotebook import tqdm as notebook_tqdm\n"
     ]
    }
   ],
   "source": [
    "import torch\n",
    "from datasets import load_dataset\n",
    "from torch.utils.data import DataLoader\n",
    "import numpy as np\n",
    "import matplotlib.pyplot as plt\n",
    "from torch.utils.data import random_split\n",
    "import torch.nn as nn"
   ]
  },
  {
   "cell_type": "code",
   "execution_count": 2,
   "metadata": {},
   "outputs": [
    {
     "data": {
      "text/plain": [
       "device(type='cuda')"
      ]
     },
     "execution_count": 2,
     "metadata": {},
     "output_type": "execute_result"
    }
   ],
   "source": [
    "device = torch.device('cuda' if torch.cuda.is_available() else 'cpu')\n",
    "device"
   ]
  },
  {
   "cell_type": "code",
   "execution_count": 3,
   "metadata": {},
   "outputs": [
    {
     "name": "stderr",
     "output_type": "stream",
     "text": [
      "c:\\Users\\mlfav\\anaconda3\\envs\\kjk_py39\\lib\\site-packages\\datasets\\load.py:922: FutureWarning: The repository for ColorModel contains custom code which must be executed to correctly load the dataset. You can inspect the repository content at C:\\Users\\mlfav\\lib\\shlee\\color_model\\ColorModel\\ColorModel.py\n",
      "You can avoid this message in future by passing the argument `trust_remote_code=True`.\n",
      "Passing `trust_remote_code=True` will be mandatory to load this dataset from the next major release of `datasets`.\n",
      "  warnings.warn(\n"
     ]
    },
    {
     "data": {
      "text/plain": [
       "(57225, 2)"
      ]
     },
     "execution_count": 3,
     "metadata": {},
     "output_type": "execute_result"
    }
   ],
   "source": [
    "dataset = load_dataset(path=r\"C:\\Users\\mlfav\\lib\\shlee\\color_model\\ColorModel\", split=\"train\")\n",
    "dataset.set_format(type=\"torch\", columns=[\"input_data\", \"output_color\"], dtype=torch.float32)\n",
    "dataset.shape"
   ]
  },
  {
   "cell_type": "code",
   "execution_count": 4,
   "metadata": {},
   "outputs": [
    {
     "data": {
      "text/plain": [
       "(34335, 22890)"
      ]
     },
     "execution_count": 4,
     "metadata": {},
     "output_type": "execute_result"
    }
   ],
   "source": [
    "total_size = len(dataset)\n",
    "train_size = int(total_size * 0.6)\n",
    "valid_size = total_size - train_size\n",
    "train_data, valid_data = random_split(dataset, [train_size, valid_size])\n",
    "train_size, valid_size"
   ]
  },
  {
   "cell_type": "code",
   "execution_count": 5,
   "metadata": {},
   "outputs": [],
   "source": [
    "train_loader = DataLoader(train_data, batch_size=4, shuffle=True, num_workers=2, drop_last=True)\n",
    "valid_loader = DataLoader(valid_data, batch_size=4, shuffle=True, num_workers=2, drop_last=True)"
   ]
  },
  {
   "cell_type": "code",
   "execution_count": 6,
   "metadata": {},
   "outputs": [
    {
     "data": {
      "text/plain": [
       "119"
      ]
     },
     "execution_count": 6,
     "metadata": {},
     "output_type": "execute_result"
    }
   ],
   "source": [
    "data = train_loader.__iter__().__next__()\n",
    "input_size = data['input_data'].shape[1]\n",
    "input_size"
   ]
  },
  {
   "cell_type": "code",
   "execution_count": 7,
   "metadata": {},
   "outputs": [
    {
     "data": {
      "text/plain": [
       "torch.Size([4, 12])"
      ]
     },
     "execution_count": 7,
     "metadata": {},
     "output_type": "execute_result"
    }
   ],
   "source": [
    "output_size = data['output_color'].shape\n",
    "output_size"
   ]
  },
  {
   "cell_type": "code",
   "execution_count": 8,
   "metadata": {},
   "outputs": [],
   "source": [
    "alpha = 0.001\n",
    "epochs = 100\n",
    "dropout_rate = 0.5"
   ]
  },
  {
   "cell_type": "code",
   "execution_count": 9,
   "metadata": {},
   "outputs": [],
   "source": [
    "class LassoModel(nn.Module):\n",
    "    def __init__(self, input_size):\n",
    "        super(LassoModel, self).__init__()\n",
    "        self.normalize1 = nn.LayerNorm((input_size,))\n",
    "        self.hidden1 = nn.Linear(input_size, 64)\n",
    "        self.dropout1 = nn.Dropout(dropout_rate)\n",
    "        self.normalize2 = nn.LayerNorm((64,))\n",
    "        self.hidden2 = nn.Linear(64, 32)\n",
    "        self.dropout2 = nn.Dropout(dropout_rate)\n",
    "        self.linear = nn.Linear(32, 12)\n",
    "\n",
    "    def forward(self, x):\n",
    "        x = self.normalize1(x)\n",
    "        x = torch.nn.functional.relu(self.hidden1(x))\n",
    "        x = self.dropout1(x)\n",
    "        x = self.normalize2(x)\n",
    "        x = torch.nn.functional.relu(self.hidden2(x))\n",
    "        x = self.dropout2(x)\n",
    "        x = self.linear(x)\n",
    "        return x"
   ]
  },
  {
   "cell_type": "code",
   "execution_count": 10,
   "metadata": {},
   "outputs": [],
   "source": [
    "def lasso_loss(model, h, y):\n",
    "    mse_loss = nn.functional.mse_loss(h, y)\n",
    "    \n",
    "    l1_regularization = alpha * torch.sum(torch.abs(model.linear.weight))\n",
    "    \n",
    "    total_loss = mse_loss + l1_regularization\n",
    "    \n",
    "    return total_loss"
   ]
  },
  {
   "cell_type": "code",
   "execution_count": 11,
   "metadata": {},
   "outputs": [],
   "source": [
    "epochs = 100\n",
    "learning_rate = 0.0002"
   ]
  },
  {
   "cell_type": "code",
   "execution_count": 12,
   "metadata": {},
   "outputs": [],
   "source": [
    "model = LassoModel(input_size).to(device)\n",
    "\n",
    "optimizer = torch.optim.SGD(model.parameters(), lr=learning_rate)"
   ]
  },
  {
   "cell_type": "code",
   "execution_count": 13,
   "metadata": {},
   "outputs": [],
   "source": [
    "def train_epoch(train_loader):\n",
    "    train_loss = []\n",
    "    for data in train_loader:\n",
    "        x = data['input_data'].to(device)\n",
    "        y = data['output_color'].to(device)\n",
    "\n",
    "        output = model.forward(x)\n",
    "\n",
    "        loss = lasso_loss(model, output, y)\n",
    "\n",
    "        optimizer.zero_grad()\n",
    "        loss.backward()\n",
    "        optimizer.step()\n",
    "        \n",
    "        train_loss.append(loss.cpu().detach().numpy())\n",
    "    return np.array(train_loss).mean()\n",
    "\n",
    "def valid_epoch(valid_loader):\n",
    "    valid_loss = []\n",
    "    model.eval()\n",
    "    for data in valid_loader:\n",
    "        x = data['input_data'].to(device)\n",
    "        y = data['output_color'].to(device)\n",
    "\n",
    "        output = model.forward(x)\n",
    "        loss = lasso_loss(model, output, y)\n",
    "\n",
    "        valid_loss.append(loss.cpu().detach().numpy())\n",
    "    return np.array(valid_loss).mean()"
   ]
  },
  {
   "cell_type": "code",
   "execution_count": 14,
   "metadata": {},
   "outputs": [
    {
     "name": "stdout",
     "output_type": "stream",
     "text": [
      "epoch: 0 | train: 0.24244438111782074, valid: 0.12139268219470978\n",
      "epoch: 1 | train: 0.10663742572069168, valid: 0.10038011521100998\n",
      "epoch: 2 | train: 0.09863653779029846, valid: 0.0967046245932579\n",
      "epoch: 3 | train: 0.09585365653038025, valid: 0.09453532844781876\n",
      "epoch: 4 | train: 0.09399715065956116, valid: 0.09292998164892197\n",
      "epoch: 5 | train: 0.09255046397447586, valid: 0.09162068367004395\n",
      "epoch: 6 | train: 0.0913359522819519, valid: 0.0904836505651474\n",
      "epoch: 7 | train: 0.0902584120631218, valid: 0.08945669233798981\n",
      "epoch: 8 | train: 0.0892895832657814, valid: 0.08852449804544449\n",
      "epoch: 9 | train: 0.08839108049869537, valid: 0.08764658868312836\n",
      "epoch: 10 | train: 0.08753884583711624, valid: 0.08680125325918198\n",
      "epoch: 11 | train: 0.08672334253787994, valid: 0.08600056916475296\n",
      "epoch: 12 | train: 0.0859348475933075, valid: 0.08522689342498779\n",
      "epoch: 13 | train: 0.08517265319824219, valid: 0.08448643237352371\n",
      "epoch: 14 | train: 0.08444744348526001, valid: 0.08376481384038925\n",
      "epoch: 15 | train: 0.08373618870973587, valid: 0.08305665850639343\n",
      "epoch: 16 | train: 0.08304455131292343, valid: 0.08236123621463776\n",
      "epoch: 17 | train: 0.08235806971788406, valid: 0.0816817507147789\n",
      "epoch: 18 | train: 0.08167733252048492, valid: 0.08099742233753204\n",
      "epoch: 19 | train: 0.08100789040327072, valid: 0.08033162355422974\n",
      "epoch: 20 | train: 0.08034759759902954, valid: 0.07966205477714539\n",
      "epoch: 21 | train: 0.07969090342521667, valid: 0.0790112167596817\n",
      "epoch: 22 | train: 0.07904776185750961, valid: 0.0783732607960701\n",
      "epoch: 23 | train: 0.07841700315475464, valid: 0.07773176580667496\n",
      "epoch: 24 | train: 0.0777784213423729, valid: 0.07710178941488266\n",
      "epoch: 25 | train: 0.07714488357305527, valid: 0.07646480202674866\n",
      "epoch: 26 | train: 0.07651286572217941, valid: 0.07582368701696396\n",
      "epoch: 27 | train: 0.0758708044886589, valid: 0.07516346126794815\n",
      "epoch: 28 | train: 0.07521756738424301, valid: 0.07450670748949051\n",
      "epoch: 29 | train: 0.07455654442310333, valid: 0.07384052127599716\n",
      "epoch: 30 | train: 0.0738946720957756, valid: 0.07316084951162338\n",
      "epoch: 31 | train: 0.07322360575199127, valid: 0.07248038053512573\n",
      "epoch: 32 | train: 0.07255265861749649, valid: 0.07179447263479233\n",
      "epoch: 33 | train: 0.07187075912952423, valid: 0.07110156863927841\n",
      "epoch: 34 | train: 0.07118838280439377, valid: 0.07041357457637787\n",
      "epoch: 35 | train: 0.07049977034330368, valid: 0.06972236186265945\n",
      "epoch: 36 | train: 0.06981157511472702, valid: 0.06903259456157684\n",
      "epoch: 37 | train: 0.06912990659475327, valid: 0.06833947449922562\n",
      "epoch: 38 | train: 0.06844428181648254, valid: 0.06764945387840271\n",
      "epoch: 39 | train: 0.06776784360408783, valid: 0.06696366518735886\n",
      "epoch: 40 | train: 0.06708911061286926, valid: 0.06628796458244324\n",
      "epoch: 41 | train: 0.06641212105751038, valid: 0.06559722125530243\n",
      "epoch: 42 | train: 0.06573303043842316, valid: 0.0649072527885437\n",
      "epoch: 43 | train: 0.06505227833986282, valid: 0.06423154473304749\n",
      "epoch: 44 | train: 0.06437665224075317, valid: 0.06355149298906326\n",
      "epoch: 45 | train: 0.06371141225099564, valid: 0.0628717914223671\n",
      "epoch: 46 | train: 0.06304878741502762, valid: 0.062182750552892685\n",
      "epoch: 47 | train: 0.06236691400408745, valid: 0.061506204307079315\n",
      "epoch: 48 | train: 0.06168081611394882, valid: 0.06079033389687538\n",
      "epoch: 49 | train: 0.06096900999546051, valid: 0.06006694585084915\n",
      "epoch: 50 | train: 0.060225799679756165, valid: 0.05931062996387482\n",
      "epoch: 51 | train: 0.05944555252790451, valid: 0.058522507548332214\n",
      "epoch: 52 | train: 0.05862131714820862, valid: 0.057701289653778076\n",
      "epoch: 53 | train: 0.05775267630815506, valid: 0.0568634495139122\n",
      "epoch: 54 | train: 0.05689708888530731, valid: 0.055996764451265335\n",
      "epoch: 55 | train: 0.05608152598142624, valid: 0.05520443618297577\n",
      "epoch: 56 | train: 0.0553620308637619, valid: 0.05447789281606674\n",
      "epoch: 57 | train: 0.05465995892882347, valid: 0.054096706211566925\n",
      "epoch: 58 | train: 0.053981926292181015, valid: 0.05325428768992424\n",
      "epoch: 59 | train: 0.05332799628376961, valid: 0.05291658267378807\n",
      "epoch: 60 | train: 0.05269649997353554, valid: 0.052084267139434814\n",
      "epoch: 61 | train: 0.05210324376821518, valid: 0.051552072167396545\n",
      "epoch: 62 | train: 0.05149775743484497, valid: 0.05128806084394455\n",
      "epoch: 63 | train: 0.050920311361551285, valid: 0.05019440874457359\n",
      "epoch: 64 | train: 0.05035363510251045, valid: 0.04965444654226303\n",
      "epoch: 65 | train: 0.0498066283762455, valid: 0.04899709299206734\n",
      "epoch: 66 | train: 0.049325838685035706, valid: 0.04834608733654022\n",
      "epoch: 67 | train: 0.048867907375097275, valid: 0.048085518181324005\n",
      "epoch: 68 | train: 0.048431385308504105, valid: 0.04786098003387451\n",
      "epoch: 69 | train: 0.04800597205758095, valid: 0.04714198410511017\n",
      "epoch: 70 | train: 0.04764770343899727, valid: 0.04660232737660408\n",
      "epoch: 71 | train: 0.04729427397251129, valid: 0.04698677733540535\n",
      "epoch: 72 | train: 0.04698791727423668, valid: 0.046669527888298035\n",
      "epoch: 73 | train: 0.04667508974671364, valid: 0.04602942615747452\n",
      "epoch: 74 | train: 0.04641646146774292, valid: 0.0458562932908535\n",
      "epoch: 75 | train: 0.04614868760108948, valid: 0.045341670513153076\n",
      "epoch: 76 | train: 0.04588736221194267, valid: 0.04500896483659744\n",
      "epoch: 77 | train: 0.04562387615442276, valid: 0.04569056257605553\n",
      "epoch: 78 | train: 0.045399703085422516, valid: 0.04527943581342697\n",
      "epoch: 79 | train: 0.045187029987573624, valid: 0.044392626732587814\n",
      "epoch: 80 | train: 0.04501240327954292, valid: 0.044160619378089905\n",
      "epoch: 81 | train: 0.04479609802365303, valid: 0.044485099613666534\n",
      "epoch: 82 | train: 0.04462309554219246, valid: 0.04381265491247177\n",
      "epoch: 83 | train: 0.04443494230508804, valid: 0.04388231411576271\n",
      "epoch: 84 | train: 0.044282007962465286, valid: 0.043375078588724136\n",
      "epoch: 85 | train: 0.0440930537879467, valid: 0.04366384819149971\n",
      "epoch: 86 | train: 0.04395805299282074, valid: 0.04355567321181297\n",
      "epoch: 87 | train: 0.043799929320812225, valid: 0.04339367523789406\n",
      "epoch: 88 | train: 0.04367696866393089, valid: 0.043495554476976395\n",
      "epoch: 89 | train: 0.043537113815546036, valid: 0.04384825378656387\n",
      "epoch: 90 | train: 0.043402571231126785, valid: 0.042604587972164154\n",
      "epoch: 91 | train: 0.04326717182993889, valid: 0.043799109756946564\n",
      "epoch: 92 | train: 0.043150611221790314, valid: 0.042699120938777924\n",
      "epoch: 93 | train: 0.043058305978775024, valid: 0.042251985520124435\n",
      "epoch: 94 | train: 0.04292904585599899, valid: 0.04228053241968155\n",
      "epoch: 95 | train: 0.04281404986977577, valid: 0.04283028095960617\n",
      "epoch: 96 | train: 0.042754918336868286, valid: 0.042469851672649384\n",
      "epoch: 97 | train: 0.04264730215072632, valid: 0.042910799384117126\n",
      "epoch: 98 | train: 0.04255524277687073, valid: 0.04192928597331047\n",
      "epoch: 99 | train: 0.042436547577381134, valid: 0.0432024709880352\n"
     ]
    }
   ],
   "source": [
    "train_loss = []\n",
    "valid_loss = []\n",
    "\n",
    "for epoch in range(epochs):\n",
    "    \n",
    "    t_loss = train_epoch(train_loader)\n",
    "    v_loss = valid_epoch(valid_loader)\n",
    "    train_loss.append(t_loss)\n",
    "    valid_loss.append(v_loss)\n",
    "    print(f\"epoch: {epoch} | train: {t_loss}, valid: {v_loss}\")"
   ]
  },
  {
   "cell_type": "code",
   "execution_count": 15,
   "metadata": {},
   "outputs": [
    {
     "data": {
      "image/png": "[encoded data removed]",
      "text/plain": [
       "<Figure size 640x480 with 1 Axes>"
      ]
     },
     "metadata": {},
     "output_type": "display_data"
    }
   ],
   "source": [
    "plt.plot([float(loss) for loss in train_loss], label='Train Loss')\n",
    "plt.plot([float(loss) for loss in valid_loss], label='Valid Loss')\n",
    "# plt.plot([float(lr[0]) for lr in learning_rates], label='Learning Rate')\n",
    "\n",
    "plt.xlabel(\"epochs\")\n",
    "plt.ylabel(\"loss\")\n",
    "plt.legend()\n",
    "plt.show()"
   ]
  },
  {
   "cell_type": "code",
   "execution_count": 16,
   "metadata": {},
   "outputs": [],
   "source": [
    "with torch.no_grad():\n",
    "    data = valid_loader.__iter__().__next__()\n",
    "    x = data['input_data'].to(device)\n",
    "    y = data['output_color']\n",
    "    output = model.forward(x)"
   ]
  },
  {
   "cell_type": "code",
   "execution_count": 17,
   "metadata": {},
   "outputs": [
    {
     "name": "stdout",
     "output_type": "stream",
     "text": [
      "torch.Size([4, 12])\n",
      "torch.Size([4, 12])\n",
      "torch.Size([4, 12])\n"
     ]
    }
   ],
   "source": [
    "print(x[:,:12].shape) # input data\n",
    "print(y.shape)        # label data\n",
    "print(output.shape)   # output data"
   ]
  },
  {
   "cell_type": "code",
   "execution_count": 18,
   "metadata": {},
   "outputs": [],
   "source": [
    "import colorsys\n",
    "\n",
    "def hsv_to_rgb(hsv_array):\n",
    "    rgb_array = np.zeros_like(hsv_array)\n",
    "    for i in range(hsv_array.shape[0]):\n",
    "        h, s, v = hsv_array[i]\n",
    "        r, g, b = colorsys.hsv_to_rgb(h.item(), s.item(), v.item())\n",
    "        rgb_array[i] = np.array([r, g, b])\n",
    "\n",
    "    return rgb_array"
   ]
  },
  {
   "cell_type": "code",
   "execution_count": 26,
   "metadata": {},
   "outputs": [
    {
     "data": {
      "image/png": "[encoded data removed]",
      "text/plain": [
       "<Figure size 640x480 with 12 Axes>"
      ]
     },
     "metadata": {},
     "output_type": "display_data"
    }
   ],
   "source": [
    "batch_size = 4\n",
    "for b in range(batch_size):\n",
    "    rgb = x[:,:12][b].cpu().detach().numpy().reshape((4,3)) # input colors\n",
    "    label = y[b].numpy().reshape((4,3)) # label color\n",
    "    label = hsv_to_rgb(label).reshape((4,3))\n",
    "    val = output[b].cpu().detach().numpy().reshape((4,3)) # return color\n",
    "    val = hsv_to_rgb(val).reshape((4,3))\n",
    "    val = np.clip(val, 0, 1)\n",
    "    \n",
    "    plt.subplot(3, batch_size, 1+b)\n",
    "    plt.imshow([rgb])\n",
    "    plt.axis(False)\n",
    "    plt.title(f'Palette {b+1}')\n",
    "    plt.subplot(3, batch_size, b+1+batch_size)\n",
    "    plt.imshow([val])\n",
    "    plt.axis(False)\n",
    "\n",
    "    plt.subplot(3, batch_size, b+1+batch_size*2)\n",
    "    plt.imshow([label])\n",
    "    plt.axis(False)\n"
   ]
  },
  {
   "cell_type": "code",
   "execution_count": 27,
   "metadata": {},
   "outputs": [],
   "source": [
    "PATH = './Model/model.pt'\n",
    "torch.save(model.state_dict(), PATH)"
   ]
  },
  {
   "cell_type": "code",
   "execution_count": 29,
   "metadata": {},
   "outputs": [
    {
     "data": {
      "text/plain": [
       "LassoModel(\n",
       "  (normalize1): LayerNorm((119,), eps=1e-05, elementwise_affine=True)\n",
       "  (hidden1): Linear(in_features=119, out_features=64, bias=True)\n",
       "  (dropout1): Dropout(p=0.5, inplace=False)\n",
       "  (normalize2): LayerNorm((64,), eps=1e-05, elementwise_affine=True)\n",
       "  (hidden2): Linear(in_features=64, out_features=32, bias=True)\n",
       "  (dropout2): Dropout(p=0.5, inplace=False)\n",
       "  (linear): Linear(in_features=32, out_features=12, bias=True)\n",
       ")"
      ]
     },
     "execution_count": 29,
     "metadata": {},
     "output_type": "execute_result"
    }
   ],
   "source": [
    "model"
   ]
  },
  {
   "cell_type": "code",
   "execution_count": 33,
   "metadata": {},
   "outputs": [
    {
     "data": {
      "text/plain": [
       "OrderedDict([('normalize1.weight',\n",
       "              tensor([1.0050, 1.0002, 1.0047, 1.0027, 1.0049, 1.0020, 1.0001, 1.0027, 1.0058,\n",
       "                      1.0005, 0.9958, 1.0043, 1.0125, 1.0164, 1.0078, 1.0191, 1.0237, 1.0079,\n",
       "                      1.0157, 1.0181, 1.0009, 1.0136, 1.0053, 1.0091, 1.0014, 1.0011, 1.0073,\n",
       "                      1.0016, 0.9986, 1.0012, 1.0016, 0.9959, 1.0017, 0.9990, 0.9954, 1.0057,\n",
       "                      1.0023, 1.0002, 1.0036, 1.0078, 0.9974, 1.0013, 1.0015, 0.9983, 0.9998,\n",
       "                      1.0044, 1.0050, 0.9994, 1.0038, 0.9962, 1.0017, 1.0037, 1.0040, 0.9995,\n",
       "                      1.0266, 1.0044, 1.0145, 1.0109, 1.0241, 0.9996, 1.0236, 1.0034, 1.0258,\n",
       "                      1.0254, 1.0180, 1.0014, 1.0005, 1.0008, 1.0041, 1.0033, 1.0055, 0.9984,\n",
       "                      0.9996, 1.0028, 1.0004, 1.0001, 1.0013, 1.0057, 1.0019, 1.0034, 1.0042,\n",
       "                      0.9999, 1.0065, 1.0027, 1.0015, 0.9993, 0.9985, 0.9993, 0.9959, 1.0015,\n",
       "                      1.0002, 0.9950, 1.0029, 1.0017, 0.9935, 1.0044, 0.9980, 0.9806, 1.0013,\n",
       "                      1.0014, 0.9949, 1.0010, 1.0057, 1.0030, 0.9964, 0.9862, 0.9996, 0.9904,\n",
       "                      1.0046, 0.9945, 0.9963, 1.0027, 0.9980, 1.0037, 1.0034, 1.0058, 0.8544,\n",
       "                      0.8695, 0.8711], device='cuda:0')),\n",
       "             ('normalize1.bias',\n",
       "              tensor([ 0.0193,  0.0032, -0.0072, -0.0188,  0.0126, -0.0145,  0.0032, -0.0012,\n",
       "                       0.0111, -0.0010, -0.0082,  0.0144, -0.0089, -0.0127,  0.0081,  0.0004,\n",
       "                       0.0140, -0.0028,  0.0061, -0.0068,  0.0048, -0.0056,  0.0012,  0.0070,\n",
       "                       0.0080,  0.0142, -0.0056, -0.0012, -0.0021, -0.0166, -0.0152,  0.0112,\n",
       "                       0.0138, -0.0115,  0.0095, -0.0067,  0.0082,  0.0116, -0.0096,  0.0072,\n",
       "                      -0.0300, -0.0070, -0.0384,  0.0058, -0.0040, -0.0116, -0.0031,  0.0003,\n",
       "                       0.0023, -0.0186,  0.0205, -0.0042,  0.0068, -0.0027, -0.0143, -0.0063,\n",
       "                      -0.0027,  0.0073,  0.0213,  0.0114,  0.0080, -0.0003,  0.0024, -0.0174,\n",
       "                      -0.0107, -0.0020,  0.0050, -0.0180, -0.0132,  0.0270, -0.0147, -0.0100,\n",
       "                      -0.0269,  0.0071,  0.0029,  0.0031,  0.0019, -0.0064, -0.0101, -0.0148,\n",
       "                       0.0102,  0.0073, -0.0164, -0.0021, -0.0011,  0.0073,  0.0041,  0.0115,\n",
       "                       0.0140,  0.0010,  0.0046, -0.0046, -0.0053, -0.0162,  0.0013, -0.0020,\n",
       "                      -0.0086, -0.0005,  0.0224,  0.0113,  0.0106,  0.0036,  0.0085, -0.0072,\n",
       "                      -0.0173,  0.0017, -0.0094,  0.0008,  0.0048,  0.0156,  0.0100,  0.0056,\n",
       "                       0.0177,  0.0108,  0.0117,  0.0016, -0.0018, -0.0023, -0.0020],\n",
       "                     device='cuda:0')),\n",
       "             ('hidden1.weight',\n",
       "              tensor([[ 0.0183, -0.0230, -0.0019,  ..., -0.0008, -0.0009, -0.0008],\n",
       "                      [ 0.0232,  0.0440,  0.0671,  ..., -0.0043, -0.0026, -0.0030],\n",
       "                      [-0.0450, -0.0309,  0.0462,  ...,  0.0020,  0.0049,  0.0098],\n",
       "                      ...,\n",
       "                      [ 0.0161, -0.0323, -0.0844,  ...,  0.0050,  0.0054,  0.0049],\n",
       "                      [-0.0045,  0.0076,  0.0682,  ...,  0.0054,  0.0050,  0.0062],\n",
       "                      [ 0.0396, -0.0267, -0.0206,  ..., -0.0034,  0.0054, -0.0079]],\n",
       "                     device='cuda:0')),\n",
       "             ('hidden1.bias',\n",
       "              tensor([ 0.0353,  0.0303, -0.0115,  0.0020, -0.0345,  0.0278, -0.0004,  0.0201,\n",
       "                      -0.0947,  0.0092, -0.0552, -0.0142,  0.0278,  0.0265, -0.0464,  0.0273,\n",
       "                       0.0471, -0.0454, -0.0106,  0.0194,  0.0148,  0.0553,  0.0042,  0.0022,\n",
       "                      -0.0917, -0.0154, -0.0565, -0.0908,  0.0022, -0.0839, -0.0665, -0.0868,\n",
       "                      -0.0068,  0.0273,  0.0427, -0.0813,  0.0131,  0.0411, -0.0307,  0.0210,\n",
       "                       0.0288,  0.0181, -0.0296, -0.0600,  0.0148, -0.0509,  0.0127, -0.0038,\n",
       "                       0.0249, -0.0784,  0.0116, -0.0796,  0.0306, -0.0592, -0.0691, -0.0614,\n",
       "                       0.0226, -0.0451, -0.0028,  0.0377,  0.0224, -0.0079,  0.0155, -0.0482],\n",
       "                     device='cuda:0')),\n",
       "             ('normalize2.weight',\n",
       "              tensor([1.0517, 1.0006, 1.0012, 1.0443, 1.0062, 1.0083, 1.0400, 1.0219, 1.0041,\n",
       "                      1.0066, 1.0069, 0.9947, 1.0017, 1.0003, 1.0117, 1.0165, 1.0645, 1.0022,\n",
       "                      1.0034, 1.0021, 1.0065, 0.9999, 1.0144, 0.9959, 0.9955, 1.0014, 1.0046,\n",
       "                      1.0133, 1.0112, 0.9973, 1.0006, 1.0010, 1.0012, 1.0215, 0.9993, 1.0008,\n",
       "                      0.9962, 0.9946, 1.0007, 1.0331, 1.0066, 1.0159, 1.0067, 1.0033, 0.9973,\n",
       "                      1.0157, 1.0183, 1.0156, 1.0092, 1.0060, 1.0437, 1.0103, 1.0227, 1.0110,\n",
       "                      0.9923, 1.0200, 0.9959, 1.0165, 1.0186, 0.9999, 1.0276, 1.0017, 1.0016,\n",
       "                      1.0015], device='cuda:0')),\n",
       "             ('normalize2.bias',\n",
       "              tensor([-0.0166, -0.0160, -0.0092,  0.0030,  0.0321, -0.0079, -0.0020,  0.0224,\n",
       "                      -0.0013,  0.0072, -0.0100,  0.0039, -0.0110, -0.0002, -0.0180, -0.0261,\n",
       "                       0.0286,  0.0098, -0.0102,  0.0149, -0.0042, -0.0051, -0.0248, -0.0024,\n",
       "                       0.0157, -0.0051, -0.0109, -0.0280, -0.0237,  0.0012,  0.0019, -0.0084,\n",
       "                       0.0055,  0.0171,  0.0202, -0.0106,  0.0068, -0.0024, -0.0099,  0.0222,\n",
       "                       0.0067,  0.0221,  0.0188, -0.0112, -0.0037, -0.0237, -0.0144,  0.0257,\n",
       "                       0.0291, -0.0100,  0.0034, -0.0209,  0.0066, -0.0084,  0.0136, -0.0390,\n",
       "                       0.0255, -0.0027, -0.0279, -0.0046, -0.0092, -0.0153,  0.0003, -0.0051],\n",
       "                     device='cuda:0')),\n",
       "             ('hidden2.weight',\n",
       "              tensor([[-0.0192,  0.0138, -0.0387,  ..., -0.1033, -0.0161, -0.0724],\n",
       "                      [-0.1164,  0.0979, -0.0179,  ..., -0.0505,  0.0074,  0.0100],\n",
       "                      [-0.0770,  0.0668,  0.0237,  ...,  0.0895, -0.0786, -0.1178],\n",
       "                      ...,\n",
       "                      [-0.0866, -0.0242, -0.0822,  ..., -0.0455, -0.0040, -0.0549],\n",
       "                      [ 0.0174, -0.0623,  0.0283,  ..., -0.0105, -0.0189,  0.0494],\n",
       "                      [-0.1830, -0.0544,  0.0251,  ...,  0.0477, -0.1188,  0.1029]],\n",
       "                     device='cuda:0')),\n",
       "             ('hidden2.bias',\n",
       "              tensor([-0.0540, -0.0103, -0.0141, -0.0569,  0.1079,  0.0095, -0.0062, -0.0167,\n",
       "                      -0.0923,  0.0124,  0.0780,  0.0075, -0.0846, -0.0810, -0.1011,  0.0860,\n",
       "                      -0.0016, -0.0179,  0.0623,  0.0956, -0.1408, -0.1013,  0.1073,  0.0111,\n",
       "                      -0.0704, -0.0785,  0.1109,  0.0120, -0.0719, -0.0182, -0.0621,  0.1221],\n",
       "                     device='cuda:0')),\n",
       "             ('linear.weight',\n",
       "              tensor([[ 3.7228e-05, -5.1926e-07,  9.9488e-08, -1.2405e-06,  1.4419e-01,\n",
       "                        2.9938e-02, -2.3959e-05, -8.2055e-06,  4.6340e-07,  3.9643e-02,\n",
       "                       -3.8265e-02,  3.2105e-06,  1.0050e-06,  3.3398e-02, -6.2420e-06,\n",
       "                        2.0270e-02,  1.8998e-05,  3.9567e-08, -2.2620e-05,  8.4123e-07,\n",
       "                        1.4515e-08,  1.0452e-07, -1.2456e-06,  1.8089e-02, -1.0584e-05,\n",
       "                        3.9702e-07,  7.2501e-02,  3.1527e-06, -1.0532e-07, -1.6563e-03,\n",
       "                        2.3422e-06,  1.0234e-02],\n",
       "                      [ 3.4255e-02, -5.8551e-06,  4.5166e-06,  1.2118e-05, -3.7318e-05,\n",
       "                       -8.5499e-03,  3.2312e-02,  3.2844e-02,  3.3243e-08, -9.9145e-06,\n",
       "                        4.5651e-02, -1.2732e-05, -2.5152e-06, -6.8528e-07, -7.1766e-06,\n",
       "                       -8.5953e-06,  4.9856e-06, -1.1704e-07, -4.7196e-06,  3.3683e-08,\n",
       "                       -5.8645e-09,  6.9721e-06,  1.1470e-05, -2.6388e-05, -6.1125e-06,\n",
       "                       -9.5946e-07,  2.8542e-02, -1.4592e-05, -6.2078e-09,  1.8850e-05,\n",
       "                       -1.2864e-05,  1.4419e-01],\n",
       "                      [ 1.2626e-01, -2.0917e-06,  1.2776e-07, -3.7252e-07,  6.4087e-06,\n",
       "                       -3.1115e-05,  1.2989e-01,  1.5466e-06,  1.8114e-07, -3.1967e-06,\n",
       "                        4.2250e-07,  3.1818e-06, -9.1976e-07, -1.6094e-08, -4.5487e-08,\n",
       "                        8.0574e-04,  1.0747e-01, -1.0627e-07, -2.1402e-06, -7.0613e-08,\n",
       "                       -1.8073e-07,  1.0482e-07, -4.0782e-04, -5.9105e-07, -2.2652e-06,\n",
       "                        1.7836e-07,  2.3361e-02, -3.0466e-06, -2.5433e-03,  5.0226e-06,\n",
       "                        2.6907e-02, -9.0012e-06],\n",
       "                      [-6.2241e-05, -2.0627e-05,  3.2145e-06,  2.4518e-02,  1.2495e-01,\n",
       "                        2.5105e-02, -6.0926e-05, -4.0958e-07, -7.3499e-08,  3.5004e-02,\n",
       "                       -2.2811e-05, -3.2556e-05, -5.3035e-07,  1.4493e-07, -2.4341e-05,\n",
       "                       -3.2442e-05, -2.2370e-05, -2.1837e-09, -4.2041e-06,  2.3172e-06,\n",
       "                        6.1460e-08, -9.5573e-06,  3.8755e-02,  5.7202e-02,  3.8865e-02,\n",
       "                       -1.3129e-06,  5.9235e-02,  1.7882e-02,  2.6153e-06, -3.2639e-02,\n",
       "                       -7.7886e-06, -9.3605e-05],\n",
       "                      [ 7.5099e-05, -1.5974e-05, -1.6406e-06,  7.0815e-07, -1.1833e-05,\n",
       "                       -8.4087e-06,  1.3215e-03,  1.9571e-02,  5.3339e-08,  2.4634e-02,\n",
       "                        9.2023e-02, -1.2230e-05, -1.2763e-05, -4.0822e-07,  1.8878e-03,\n",
       "                        1.6197e-06,  2.0885e-04, -2.1608e-08, -5.3459e-06,  3.2472e-07,\n",
       "                        4.1212e-08,  4.5018e-06,  5.3736e-02, -1.5554e-05,  2.0136e-02,\n",
       "                       -6.9757e-07,  6.4431e-02, -1.6338e-05, -3.2950e-07,  1.3311e-04,\n",
       "                       -4.2145e-06,  1.3164e-01],\n",
       "                      [ 8.3101e-02, -5.6339e-06,  1.7939e-09, -2.8350e-07, -3.0099e-05,\n",
       "                       -5.3288e-05,  6.2694e-02, -7.5015e-06,  1.0995e-07, -7.9307e-06,\n",
       "                       -2.3509e-05,  3.6953e-02, -9.8057e-06,  1.4248e-02, -2.2735e-07,\n",
       "                        6.2678e-02,  7.4347e-02,  1.0363e-07, -3.1272e-06,  5.6155e-08,\n",
       "                        1.7294e-07,  2.0387e-06,  7.8962e-08, -2.4680e-05, -8.2649e-07,\n",
       "                       -1.4105e-07,  4.9358e-02, -2.2487e-05, -5.4440e-07,  3.3229e-02,\n",
       "                       -1.3620e-06, -3.5248e-03],\n",
       "                      [-6.6090e-05,  9.8943e-06,  1.2360e-07, -6.4705e-06,  7.1591e-02,\n",
       "                       -2.0857e-05, -1.0174e-05, -4.8257e-06,  1.7628e-07, -2.2890e-05,\n",
       "                       -4.5869e-04,  6.7977e-06,  4.7623e-06,  1.1525e-07, -2.8276e-05,\n",
       "                        8.8367e-06, -2.4290e-05,  1.1631e-06, -6.6244e-06, -5.5033e-08,\n",
       "                        1.4190e-08, -1.1474e-05, -5.8331e-05,  9.0786e-02, -1.8993e-05,\n",
       "                        3.0303e-07,  2.3181e-02,  1.1328e-06,  5.5312e-07, -5.9159e-02,\n",
       "                        2.6911e-02,  2.9648e-02],\n",
       "                      [-4.0871e-06, -8.6324e-06, -1.2995e-07,  6.8626e-03, -8.4741e-06,\n",
       "                       -3.1707e-02, -1.9740e-05,  9.4237e-07, -6.5491e-09,  7.8279e-02,\n",
       "                        9.9875e-02, -5.3648e-06, -4.1409e-06, -1.3572e-07, -4.5398e-06,\n",
       "                       -4.1740e-06,  1.6679e-02, -7.6367e-08,  8.0086e-02,  5.7369e-08,\n",
       "                        5.4975e-08, -1.0309e-06, -6.8138e-07, -6.3824e-06, -1.1600e-06,\n",
       "                        1.5930e-07, -1.2152e-05, -2.9206e-06, -2.5160e-07, -1.7789e-05,\n",
       "                       -1.0867e-06,  7.5136e-02],\n",
       "                      [ 7.1933e-02,  2.0458e-03, -9.5014e-08,  1.1072e-06,  2.1457e-05,\n",
       "                        2.2870e-02,  4.9758e-02,  1.6312e-06, -1.3703e-07,  3.8397e-06,\n",
       "                       -1.1729e-05,  2.5547e-02,  3.5181e-03,  2.6003e-02,  1.6721e-06,\n",
       "                        2.3279e-02,  3.1352e-07,  7.5896e-08,  7.7273e-07,  1.5910e-07,\n",
       "                        7.9604e-08, -3.2243e-06,  4.5383e-08,  9.4574e-06,  1.7213e-06,\n",
       "                       -7.2235e-08,  8.6388e-02,  4.3802e-06,  1.0823e-07,  6.8083e-02,\n",
       "                        9.6974e-07,  5.2791e-06],\n",
       "                      [ 9.0534e-05,  4.1133e-05,  2.5411e-08,  1.0289e-05,  1.1570e-01,\n",
       "                        1.7784e-04,  5.8452e-05,  3.8565e-05,  1.5649e-07,  1.0226e-04,\n",
       "                       -1.8580e-02,  5.3928e-05,  1.3122e-05, -1.2670e-06,  2.4519e-05,\n",
       "                        2.4421e-05, -1.3287e-02,  1.5473e-07,  3.1867e-05,  9.2773e-11,\n",
       "                        1.8119e-07, -3.1185e-02, -1.9943e-02,  6.5864e-02,  3.4841e-05,\n",
       "                       -1.3170e-07,  2.0409e-04,  1.7146e-04, -1.9743e-07, -1.3809e-05,\n",
       "                        4.5816e-02,  4.2876e-02],\n",
       "                      [-2.0642e-02,  3.1744e-06,  3.9077e-07,  2.5994e-06, -2.5935e-07,\n",
       "                       -9.4701e-03, -2.2778e-02,  5.4062e-02,  8.1361e-08,  7.4115e-03,\n",
       "                        9.0626e-02, -1.5419e-04,  2.5137e-06, -4.3451e-08, -1.9365e-06,\n",
       "                       -3.7188e-06,  7.0335e-06,  1.8871e-02,  6.6488e-02,  3.6812e-07,\n",
       "                        9.7050e-08,  7.2560e-02,  1.8426e-05, -7.2284e-05,  6.8138e-03,\n",
       "                        5.8755e-08, -2.1646e-04,  2.2400e-05,  5.5852e-08, -1.9838e-05,\n",
       "                        5.8810e-07,  9.1225e-02],\n",
       "                      [ 5.7012e-02,  6.9307e-02, -1.6716e-08,  3.1023e-07,  2.1966e-06,\n",
       "                        9.1647e-02,  8.8520e-02,  1.1898e-06,  5.6439e-09,  7.4332e-06,\n",
       "                        2.2550e-05,  1.3524e-06,  4.0612e-03,  1.1919e-07, -1.8778e-07,\n",
       "                        7.8456e-08, -1.9430e-07,  1.3069e-07,  6.0708e-06, -3.1059e-08,\n",
       "                       -7.7808e-08,  6.0054e-06,  6.1903e-07,  2.4365e-07,  1.6706e-06,\n",
       "                       -1.1223e-07,  5.3723e-02,  1.2865e-06,  1.1343e-07,  1.0924e-02,\n",
       "                       -2.4906e-07,  9.9155e-03]], device='cuda:0')),\n",
       "             ('linear.bias',\n",
       "              tensor([ 0.0235,  0.0940, -0.0653,  0.0296,  0.0532,  0.1236,  0.1230,  0.0955,\n",
       "                       0.3343,  0.0599,  0.0324,  0.3660], device='cuda:0'))])"
      ]
     },
     "execution_count": 33,
     "metadata": {},
     "output_type": "execute_result"
    }
   ],
   "source": [
    "model.state_dict()"
   ]
  },
  {
   "cell_type": "code",
   "execution_count": null,
   "metadata": {},
   "outputs": [],
   "source": []
  }
 ],
 "metadata": {
  "kernelspec": {
   "display_name": "kjk_py39",
   "language": "python",
   "name": "python3"
  },
  "language_info": {
   "codemirror_mode": {
    "name": "ipython",
    "version": 3
   },
   "file_extension": ".py",
   "mimetype": "text/x-python",
   "name": "python",
   "nbconvert_exporter": "python",
   "pygments_lexer": "ipython3",
   "version": "3.9.15"
  }
 },
 "nbformat": 4,
 "nbformat_minor": 2
}

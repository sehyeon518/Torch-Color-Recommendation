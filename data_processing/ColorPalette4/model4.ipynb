{
 "cells": [
  {
   "cell_type": "code",
   "execution_count": 39,
   "metadata": {},
   "outputs": [],
   "source": [
    "import torch\n",
    "from datasets import load_dataset\n",
    "from torch.utils.data import DataLoader\n",
    "import numpy as np\n",
    "import matplotlib.pyplot as plt"
   ]
  },
  {
   "cell_type": "code",
   "execution_count": 40,
   "metadata": {},
   "outputs": [
    {
     "data": {
      "text/plain": [
       "device(type='cuda')"
      ]
     },
     "execution_count": 40,
     "metadata": {},
     "output_type": "execute_result"
    }
   ],
   "source": [
    "device = torch.device('cuda' if torch.cuda.is_available() else 'cpu')\n",
    "device"
   ]
  },
  {
   "cell_type": "code",
   "execution_count": 41,
   "metadata": {},
   "outputs": [
    {
     "data": {
      "text/plain": [
       "(57243, 3)"
      ]
     },
     "execution_count": 41,
     "metadata": {},
     "output_type": "execute_result"
    }
   ],
   "source": [
    "dataset = load_dataset(path=r\"C:\\Users\\mlfav\\lib\\shlee\\color_model\\ColorPalette4\", split=\"train\")\n",
    "dataset.set_format(type=\"torch\", columns=[\"input_colors\", \"output_color\"], dtype=torch.float32)\n",
    "dataset.shape"
   ]
  },
  {
   "cell_type": "code",
   "execution_count": 42,
   "metadata": {},
   "outputs": [],
   "source": [
    "from torch.utils.data import random_split\n",
    "total_size = len(dataset)\n",
    "train_size = int(total_size * 0.6)\n",
    "valid_size = total_size - train_size\n",
    "train_data, valid_data = random_split(dataset, [train_size, valid_size])"
   ]
  },
  {
   "cell_type": "code",
   "execution_count": 43,
   "metadata": {},
   "outputs": [],
   "source": [
    "train_loader = DataLoader(train_data, batch_size=4, shuffle=True, num_workers=2, drop_last=True)\n",
    "valid_loader = DataLoader(valid_data, batch_size=4, shuffle=True, num_workers=2, drop_last=True)"
   ]
  },
  {
   "cell_type": "code",
   "execution_count": 44,
   "metadata": {},
   "outputs": [
    {
     "data": {
      "text/plain": [
       "(34345, 22898)"
      ]
     },
     "execution_count": 44,
     "metadata": {},
     "output_type": "execute_result"
    }
   ],
   "source": [
    "train_size, valid_size"
   ]
  },
  {
   "cell_type": "code",
   "execution_count": 45,
   "metadata": {},
   "outputs": [],
   "source": [
    "import torch.nn as nn\n",
    "\n",
    "class Model(nn.Module):\n",
    "    def __init__(self):\n",
    "        super(Model, self).__init__()\n",
    "        self.layer1 = nn.Linear(in_features=4*3, out_features=24)\n",
    "        self.layer2 = nn.Linear(in_features=24, out_features=48)\n",
    "        self.normalize = nn.LayerNorm((48,))\n",
    "        self.layer3 = nn.ReLU()\n",
    "        self.layer4 = nn.Linear(in_features=48, out_features=24)\n",
    "        self.normalize2 = nn.LayerNorm((24,))\n",
    "        self.layer5 = nn.ReLU()\n",
    "        self.layer6 = nn.Linear(in_features=24, out_features=12)\n",
    "        self.layer7 = nn.Linear(in_features=12, out_features=3)\n",
    "\n",
    "    def forward(self, x):\n",
    "        x = self.layer1(x)\n",
    "        x = self.layer2(x)\n",
    "        x = self.normalize(x)\n",
    "        x = self.layer3(x)\n",
    "        x = self.layer4(x)\n",
    "        x = self.normalize2(x)\n",
    "        x = self.layer5(x)\n",
    "        x = self.layer6(x)\n",
    "        x = self.layer7(x)\n",
    "\n",
    "        return x"
   ]
  },
  {
   "cell_type": "code",
   "execution_count": 46,
   "metadata": {},
   "outputs": [],
   "source": [
    "model = Model().to(device)\n",
    "loss_func = nn.MSELoss()\n",
    "optimizer = torch.optim.SGD(model.parameters(), lr=0.0002, momentum=0.9)\n",
    "scheduler = torch.optim.lr_scheduler.CyclicLR(optimizer, base_lr=0.0002,\n",
    "                                              step_size_up=5, max_lr=0.0005,\n",
    "                                              gamma=0.5, mode='exp_range')\n",
    "learning_rate = []"
   ]
  },
  {
   "cell_type": "code",
   "execution_count": 47,
   "metadata": {},
   "outputs": [],
   "source": [
    "def train(train_loader):\n",
    "    train_loss = []\n",
    "    for data in train_loader:\n",
    "        x = data['input_colors'].to(device)\n",
    "        y = data['output_color'].to(device)\n",
    "\n",
    "        optimizer.zero_grad()\n",
    "        output = model.forward(x)\n",
    "\n",
    "        loss = loss_func(output, y)\n",
    "        loss.backward()\n",
    "        optimizer.step()\n",
    "        train_loss.append(loss.cpu().detach().numpy())\n",
    "    scheduler.step()\n",
    "    learning_rate.append(scheduler.get_last_lr()[0])\n",
    "    return np.array(train_loss).mean()\n",
    "\n",
    "def valid(valid_loader):\n",
    "    valid_loss = []\n",
    "    for data in valid_loader:\n",
    "        x = data['input_colors'].to(device)\n",
    "        y = data['output_color'].to(device)\n",
    "\n",
    "        output = model.forward(x)\n",
    "        loss = loss_func(output, y)\n",
    "        valid_loss.append(loss.cpu().detach().numpy())\n",
    "    return np.array(valid_loss).mean()"
   ]
  },
  {
   "cell_type": "code",
   "execution_count": 48,
   "metadata": {},
   "outputs": [
    {
     "name": "stdout",
     "output_type": "stream",
     "text": [
      "train: 3796.477294921875, valid: 3633.25048828125\n",
      "train: 3751.362548828125, valid: 3711.49609375\n",
      "train: 3727.428466796875, valid: 3574.306884765625\n",
      "train: 3709.028564453125, valid: 3795.07763671875\n",
      "train: 3710.408447265625, valid: 3651.443359375\n",
      "train: 3675.386474609375, valid: 3568.97509765625\n",
      "train: 3657.701171875, valid: 3590.751220703125\n",
      "train: 3635.46044921875, valid: 3561.662353515625\n"
     ]
    }
   ],
   "source": [
    "train_loss = []\n",
    "valid_loss = []\n",
    "\n",
    "for epoch in range(8):\n",
    "    \n",
    "    t_loss = train(train_loader)\n",
    "    v_loss = valid(valid_loader)\n",
    "    train_loss.append(t_loss)\n",
    "    valid_loss.append(v_loss)\n",
    "    print(f\"train: {t_loss}, valid: {v_loss}\")"
   ]
  },
  {
   "cell_type": "code",
   "execution_count": 49,
   "metadata": {},
   "outputs": [
    {
     "name": "stdout",
     "output_type": "stream",
     "text": [
      "0.00023000\n",
      "0.00023000\n",
      "0.00022250\n",
      "0.00021500\n",
      "0.00020938\n",
      "0.00020375\n",
      "0.00020141\n",
      "0.00020047\n"
     ]
    },
    {
     "data": {
      "image/png": "[encoded data removed]",
      "text/plain": [
       "<Figure size 1000x500 with 1 Axes>"
      ]
     },
     "metadata": {},
     "output_type": "display_data"
    }
   ],
   "source": [
    "for lr in learning_rate:\n",
    "    print(format(lr, '.8f'))\n",
    "\n",
    "plt.figure(figsize=(10,5))\n",
    "plt.plot([float(loss) for loss in train_loss], label='Train Loss')\n",
    "plt.plot([float(loss) for loss in valid_loss], label='Valid Loss')\n",
    "# plt.plot([float(lr[0]) for lr in learning_rate], label='Learning Rate')\n",
    "\n",
    "plt.xlabel(\"epochs\")\n",
    "plt.ylabel(\"loss\")\n",
    "plt.legend()\n",
    "plt.show()"
   ]
  },
  {
   "cell_type": "code",
   "execution_count": 50,
   "metadata": {},
   "outputs": [],
   "source": [
    "with torch.no_grad():\n",
    "    data = train_loader.__iter__().__next__()\n",
    "    x = data['input_colors'].to(device)\n",
    "    y = data['output_color']\n",
    "    output = model.forward(x).type(torch.int)"
   ]
  },
  {
   "cell_type": "code",
   "execution_count": 51,
   "metadata": {},
   "outputs": [
    {
     "name": "stdout",
     "output_type": "stream",
     "text": [
      "tensor([[182., 182., 182.,   5.,   5.,   5., 132., 132., 132., 124., 124., 124.],\n",
      "        [204., 191., 204., 183., 154., 175., 191., 169., 189., 178., 146., 163.],\n",
      "        [116., 214., 107.,  46., 176., 108., 238., 191., 110., 185., 177., 203.],\n",
      "        [204.,  48.,  91.,  33.,  44.,  79., 218., 202.,  85., 194., 157.,  73.]],\n",
      "       device='cuda:0')\n",
      "tensor([[ 88.,  88.,  88.],\n",
      "        [185., 164., 179.],\n",
      "        [198.,  66., 126.],\n",
      "        [113.,  26.,  51.]])\n",
      "tensor([[126, 119, 107],\n",
      "        [126, 119, 107],\n",
      "        [126, 119, 107],\n",
      "        [126, 119, 107]], device='cuda:0', dtype=torch.int32)\n"
     ]
    }
   ],
   "source": [
    "print(x)\n",
    "print(y)\n",
    "print(output)"
   ]
  },
  {
   "cell_type": "code",
   "execution_count": 52,
   "metadata": {},
   "outputs": [
    {
     "data": {
      "image/png": "[encoded data removed]",
      "text/plain": [
       "<Figure size 640x480 with 12 Axes>"
      ]
     },
     "metadata": {},
     "output_type": "display_data"
    }
   ],
   "source": [
    "for i in range(4):\n",
    "    x_tmp = x[i].type(torch.int).cpu().detach().numpy().reshape((4,1,3))\n",
    "    y_tmp = y[i].type(torch.int).numpy().reshape((1,3))\n",
    "    output_tmp = output[i].cpu().detach().numpy().reshape((1,3))\n",
    "    plt.subplot(4, 3, i*3+1)\n",
    "    plt.imshow([x_tmp[i] for i in range(4)])\n",
    "    plt.axis(False)\n",
    "    plt.subplot(4, 3, i*3+2)\n",
    "    plt.imshow([y_tmp])\n",
    "    plt.axis(False)\n",
    "    plt.subplot(4, 3, i*3+3)\n",
    "    plt.imshow([output_tmp])\n",
    "    plt.axis(False)\n"
   ]
  },
  {
   "cell_type": "code",
   "execution_count": null,
   "metadata": {},
   "outputs": [],
   "source": []
  }
 ],
 "metadata": {
  "kernelspec": {
   "display_name": "kjk_py39",
   "language": "python",
   "name": "python3"
  },
  "language_info": {
   "codemirror_mode": {
    "name": "ipython",
    "version": 3
   },
   "file_extension": ".py",
   "mimetype": "text/x-python",
   "name": "python",
   "nbconvert_exporter": "python",
   "pygments_lexer": "ipython3",
   "version": "3.9.15"
  }
 },
 "nbformat": 4,
 "nbformat_minor": 2
}

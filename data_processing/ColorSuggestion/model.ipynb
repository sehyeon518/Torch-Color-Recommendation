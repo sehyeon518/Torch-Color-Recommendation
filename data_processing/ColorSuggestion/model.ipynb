{
 "cells": [
  {
   "cell_type": "code",
   "execution_count": 45,
   "metadata": {},
   "outputs": [],
   "source": [
    "import torch\n",
    "from datasets import load_dataset\n",
    "from torch.utils.data import DataLoader\n",
    "import numpy as np\n",
    "import matplotlib.pyplot as plt\n",
    "from torch.utils.data import random_split\n",
    "import torch.nn as nn"
   ]
  },
  {
   "cell_type": "code",
   "execution_count": 46,
   "metadata": {},
   "outputs": [
    {
     "data": {
      "text/plain": [
       "device(type='cuda')"
      ]
     },
     "execution_count": 46,
     "metadata": {},
     "output_type": "execute_result"
    }
   ],
   "source": [
    "device = torch.device('cuda' if torch.cuda.is_available() else 'cpu')\n",
    "device"
   ]
  },
  {
   "cell_type": "code",
   "execution_count": 47,
   "metadata": {},
   "outputs": [
    {
     "name": "stderr",
     "output_type": "stream",
     "text": [
      "c:\\Users\\mlfav\\anaconda3\\envs\\kjk_py39\\lib\\site-packages\\datasets\\load.py:922: FutureWarning: The repository for ColorSuggestion contains custom code which must be executed to correctly load the dataset. You can inspect the repository content at C:\\Users\\mlfav\\lib\\shlee\\color_model\\ColorSuggestion\\ColorSuggestion.py\n",
      "You can avoid this message in future by passing the argument `trust_remote_code=True`.\n",
      "Passing `trust_remote_code=True` will be mandatory to load this dataset from the next major release of `datasets`.\n",
      "  warnings.warn(\n"
     ]
    },
    {
     "data": {
      "text/plain": [
       "(57243, 16)"
      ]
     },
     "execution_count": 47,
     "metadata": {},
     "output_type": "execute_result"
    }
   ],
   "source": [
    "dataset = load_dataset(path=r\"C:\\Users\\mlfav\\lib\\shlee\\color_model\\ColorSuggestion\", split=\"train\")\n",
    "dataset.set_format(type=\"torch\", columns=[\"input_data\", \"output_color\"], dtype=torch.float32)\n",
    "dataset.shape"
   ]
  },
  {
   "cell_type": "code",
   "execution_count": 48,
   "metadata": {},
   "outputs": [
    {
     "data": {
      "text/plain": [
       "(34345, 22898)"
      ]
     },
     "execution_count": 48,
     "metadata": {},
     "output_type": "execute_result"
    }
   ],
   "source": [
    "total_size = len(dataset)\n",
    "train_size = int(total_size * 0.6)\n",
    "valid_size = total_size - train_size\n",
    "train_data, valid_data = random_split(dataset, [train_size, valid_size])\n",
    "train_size, valid_size"
   ]
  },
  {
   "cell_type": "code",
   "execution_count": 49,
   "metadata": {},
   "outputs": [],
   "source": [
    "train_loader = DataLoader(train_data, batch_size=4, shuffle=True, num_workers=2, drop_last=True)\n",
    "valid_loader = DataLoader(valid_data, batch_size=4, shuffle=True, num_workers=2, drop_last=True)"
   ]
  },
  {
   "cell_type": "code",
   "execution_count": 50,
   "metadata": {},
   "outputs": [
    {
     "data": {
      "text/plain": [
       "119"
      ]
     },
     "execution_count": 50,
     "metadata": {},
     "output_type": "execute_result"
    }
   ],
   "source": [
    "data = train_loader.__iter__().__next__()\n",
    "input_size = data['input_data'].shape[1]\n",
    "input_size"
   ]
  },
  {
   "cell_type": "code",
   "execution_count": 51,
   "metadata": {},
   "outputs": [
    {
     "data": {
      "text/plain": [
       "torch.Size([4, 3])"
      ]
     },
     "execution_count": 51,
     "metadata": {},
     "output_type": "execute_result"
    }
   ],
   "source": [
    "output_size = data['output_color'].shape\n",
    "output_size"
   ]
  },
  {
   "cell_type": "code",
   "execution_count": 52,
   "metadata": {},
   "outputs": [],
   "source": [
    "alpha = 0.1\n",
    "epochs = 100"
   ]
  },
  {
   "cell_type": "code",
   "execution_count": 53,
   "metadata": {},
   "outputs": [],
   "source": [
    "class LassoModel(nn.Module):\n",
    "    def __init__(self, input_size):\n",
    "        super(LassoModel, self).__init__()\n",
    "        self.normalize = nn.LayerNorm((input_size,))\n",
    "        self.linear = nn.Linear(input_size, 3)\n",
    "\n",
    "    def forward(self, x):\n",
    "        x = self.normalize(x)\n",
    "        x = self.linear(x)\n",
    "        return x"
   ]
  },
  {
   "cell_type": "code",
   "execution_count": 54,
   "metadata": {},
   "outputs": [],
   "source": [
    "def lasso_loss(model, h, y):\n",
    "    mse_loss = nn.functional.mse_loss(h, y)\n",
    "    \n",
    "    l1_regularization = alpha * torch.sum(torch.abs(model.linear.weight))\n",
    "    \n",
    "    total_loss = mse_loss + l1_regularization\n",
    "    \n",
    "    return total_loss"
   ]
  },
  {
   "cell_type": "code",
   "execution_count": 55,
   "metadata": {},
   "outputs": [],
   "source": [
    "epochs = 100\n",
    "learning_rate = 0.0002"
   ]
  },
  {
   "cell_type": "code",
   "execution_count": 56,
   "metadata": {},
   "outputs": [],
   "source": [
    "model = LassoModel(input_size).to(device)\n",
    "\n",
    "optimizer = torch.optim.SGD(model.parameters(), lr=learning_rate)\n",
    "loss_func = torch.nn.MSELoss()"
   ]
  },
  {
   "cell_type": "code",
   "execution_count": 57,
   "metadata": {},
   "outputs": [],
   "source": [
    "learning_rates = []"
   ]
  },
  {
   "cell_type": "code",
   "execution_count": 58,
   "metadata": {},
   "outputs": [],
   "source": [
    "def train_epoch(train_loader):\n",
    "    train_loss = []\n",
    "    for data in train_loader:\n",
    "        x = data['input_data'].to(device)\n",
    "        y = data['output_color'].to(device)\n",
    "\n",
    "        output = model.forward(x)\n",
    "\n",
    "        loss = lasso_loss(model, output, y)\n",
    "\n",
    "        optimizer.zero_grad()\n",
    "        loss.backward()\n",
    "        optimizer.step()\n",
    "\n",
    "        train_loss.append(loss.cpu().detach().numpy())\n",
    "\n",
    "    return np.array(train_loss).mean()\n",
    "\n",
    "def valid_epoch(valid_loader):\n",
    "    valid_loss = []\n",
    "    for data in valid_loader:\n",
    "        x = data['input_data'].to(device)\n",
    "        y = data['output_color'].to(device)\n",
    "\n",
    "        output = model.forward(x)\n",
    "        loss = lasso_loss(model, output, y)\n",
    "\n",
    "        valid_loss.append(loss.cpu().detach().numpy())\n",
    "    return np.array(valid_loss).mean()"
   ]
  },
  {
   "cell_type": "code",
   "execution_count": 59,
   "metadata": {},
   "outputs": [
    {
     "name": "stdout",
     "output_type": "stream",
     "text": [
      "train: 3194.95556640625, valid: 3137.723388671875\n",
      "train: 3102.473388671875, valid: 3122.08203125\n",
      "train: 3092.188720703125, valid: 3125.667724609375\n",
      "train: 3081.52197265625, valid: 3128.7958984375\n",
      "train: 3075.073486328125, valid: 3080.45849609375\n",
      "train: 3068.718994140625, valid: 3088.396484375\n",
      "train: 3065.588623046875, valid: 3071.273193359375\n",
      "train: 3066.499267578125, valid: 3114.74072265625\n",
      "train: 3061.2978515625, valid: 3154.0224609375\n",
      "train: 3061.257568359375, valid: 3118.991943359375\n",
      "train: 3056.186767578125, valid: 3083.936767578125\n",
      "train: 3055.990478515625, valid: 3122.116943359375\n",
      "train: 3055.638916015625, valid: 3109.055908203125\n",
      "train: 3054.788818359375, valid: 3070.078857421875\n",
      "train: 3053.69677734375, valid: 3099.8056640625\n",
      "train: 3055.42578125, valid: 3064.220703125\n",
      "train: 3052.4306640625, valid: 3062.37744140625\n",
      "train: 3051.150390625, valid: 3066.11328125\n",
      "train: 3054.0556640625, valid: 3058.898681640625\n",
      "train: 3050.8740234375, valid: 3072.230712890625\n",
      "train: 3050.888671875, valid: 3067.136962890625\n",
      "train: 3050.38818359375, valid: 3060.794189453125\n",
      "train: 3049.6416015625, valid: 3104.294189453125\n",
      "train: 3051.4814453125, valid: 3072.12890625\n",
      "train: 3051.2109375, valid: 3060.501708984375\n",
      "train: 3052.64990234375, valid: 3067.973388671875\n",
      "train: 3052.63623046875, valid: 3074.903564453125\n",
      "train: 3049.996337890625, valid: 3176.35791015625\n",
      "train: 3049.18408203125, valid: 3073.4033203125\n",
      "train: 3045.477783203125, valid: 3059.62255859375\n",
      "train: 3048.507568359375, valid: 3071.251220703125\n",
      "train: 3048.74072265625, valid: 3076.728271484375\n",
      "train: 3050.99658203125, valid: 3062.6103515625\n",
      "train: 3050.923828125, valid: 3074.473388671875\n",
      "train: 3051.205810546875, valid: 3237.032470703125\n",
      "train: 3046.363037109375, valid: 3096.80224609375\n",
      "train: 3048.235595703125, valid: 3065.521240234375\n",
      "train: 3050.951416015625, valid: 3067.95947265625\n",
      "train: 3049.57958984375, valid: 3091.68896484375\n",
      "train: 3051.083984375, valid: 3075.2080078125\n"
     ]
    },
    {
     "ename": "KeyboardInterrupt",
     "evalue": "",
     "output_type": "error",
     "traceback": [
      "\u001b[1;31m---------------------------------------------------------------------------\u001b[0m",
      "\u001b[1;31mKeyboardInterrupt\u001b[0m                         Traceback (most recent call last)",
      "Cell \u001b[1;32mIn[59], line 6\u001b[0m\n\u001b[0;32m      2\u001b[0m valid_loss \u001b[38;5;241m=\u001b[39m []\n\u001b[0;32m      4\u001b[0m \u001b[38;5;28;01mfor\u001b[39;00m epoch \u001b[38;5;129;01min\u001b[39;00m \u001b[38;5;28mrange\u001b[39m(epochs):\n\u001b[1;32m----> 6\u001b[0m     t_loss \u001b[38;5;241m=\u001b[39m \u001b[43mtrain_epoch\u001b[49m\u001b[43m(\u001b[49m\u001b[43mtrain_loader\u001b[49m\u001b[43m)\u001b[49m\n\u001b[0;32m      7\u001b[0m     v_loss \u001b[38;5;241m=\u001b[39m valid_epoch(valid_loader)\n\u001b[0;32m      8\u001b[0m     train_loss\u001b[38;5;241m.\u001b[39mappend(t_loss)\n",
      "Cell \u001b[1;32mIn[58], line 12\u001b[0m, in \u001b[0;36mtrain_epoch\u001b[1;34m(train_loader)\u001b[0m\n\u001b[0;32m      9\u001b[0m loss \u001b[38;5;241m=\u001b[39m lasso_loss(model, output, y)\n\u001b[0;32m     11\u001b[0m optimizer\u001b[38;5;241m.\u001b[39mzero_grad()\n\u001b[1;32m---> 12\u001b[0m \u001b[43mloss\u001b[49m\u001b[38;5;241;43m.\u001b[39;49m\u001b[43mbackward\u001b[49m\u001b[43m(\u001b[49m\u001b[43m)\u001b[49m\n\u001b[0;32m     13\u001b[0m optimizer\u001b[38;5;241m.\u001b[39mstep()\n\u001b[0;32m     15\u001b[0m train_loss\u001b[38;5;241m.\u001b[39mappend(loss\u001b[38;5;241m.\u001b[39mcpu()\u001b[38;5;241m.\u001b[39mdetach()\u001b[38;5;241m.\u001b[39mnumpy())\n",
      "File \u001b[1;32mc:\\Users\\mlfav\\anaconda3\\envs\\kjk_py39\\lib\\site-packages\\torch\\_tensor.py:487\u001b[0m, in \u001b[0;36mTensor.backward\u001b[1;34m(self, gradient, retain_graph, create_graph, inputs)\u001b[0m\n\u001b[0;32m    477\u001b[0m \u001b[38;5;28;01mif\u001b[39;00m has_torch_function_unary(\u001b[38;5;28mself\u001b[39m):\n\u001b[0;32m    478\u001b[0m     \u001b[38;5;28;01mreturn\u001b[39;00m handle_torch_function(\n\u001b[0;32m    479\u001b[0m         Tensor\u001b[38;5;241m.\u001b[39mbackward,\n\u001b[0;32m    480\u001b[0m         (\u001b[38;5;28mself\u001b[39m,),\n\u001b[1;32m   (...)\u001b[0m\n\u001b[0;32m    485\u001b[0m         inputs\u001b[38;5;241m=\u001b[39minputs,\n\u001b[0;32m    486\u001b[0m     )\n\u001b[1;32m--> 487\u001b[0m \u001b[43mtorch\u001b[49m\u001b[38;5;241;43m.\u001b[39;49m\u001b[43mautograd\u001b[49m\u001b[38;5;241;43m.\u001b[39;49m\u001b[43mbackward\u001b[49m\u001b[43m(\u001b[49m\n\u001b[0;32m    488\u001b[0m \u001b[43m    \u001b[49m\u001b[38;5;28;43mself\u001b[39;49m\u001b[43m,\u001b[49m\u001b[43m \u001b[49m\u001b[43mgradient\u001b[49m\u001b[43m,\u001b[49m\u001b[43m \u001b[49m\u001b[43mretain_graph\u001b[49m\u001b[43m,\u001b[49m\u001b[43m \u001b[49m\u001b[43mcreate_graph\u001b[49m\u001b[43m,\u001b[49m\u001b[43m \u001b[49m\u001b[43minputs\u001b[49m\u001b[38;5;241;43m=\u001b[39;49m\u001b[43minputs\u001b[49m\n\u001b[0;32m    489\u001b[0m \u001b[43m\u001b[49m\u001b[43m)\u001b[49m\n",
      "File \u001b[1;32mc:\\Users\\mlfav\\anaconda3\\envs\\kjk_py39\\lib\\site-packages\\torch\\autograd\\__init__.py:200\u001b[0m, in \u001b[0;36mbackward\u001b[1;34m(tensors, grad_tensors, retain_graph, create_graph, grad_variables, inputs)\u001b[0m\n\u001b[0;32m    195\u001b[0m     retain_graph \u001b[38;5;241m=\u001b[39m create_graph\n\u001b[0;32m    197\u001b[0m \u001b[38;5;66;03m# The reason we repeat same the comment below is that\u001b[39;00m\n\u001b[0;32m    198\u001b[0m \u001b[38;5;66;03m# some Python versions print out the first line of a multi-line function\u001b[39;00m\n\u001b[0;32m    199\u001b[0m \u001b[38;5;66;03m# calls in the traceback and some print out the last line\u001b[39;00m\n\u001b[1;32m--> 200\u001b[0m \u001b[43mVariable\u001b[49m\u001b[38;5;241;43m.\u001b[39;49m\u001b[43m_execution_engine\u001b[49m\u001b[38;5;241;43m.\u001b[39;49m\u001b[43mrun_backward\u001b[49m\u001b[43m(\u001b[49m\u001b[43m  \u001b[49m\u001b[38;5;66;43;03m# Calls into the C++ engine to run the backward pass\u001b[39;49;00m\n\u001b[0;32m    201\u001b[0m \u001b[43m    \u001b[49m\u001b[43mtensors\u001b[49m\u001b[43m,\u001b[49m\u001b[43m \u001b[49m\u001b[43mgrad_tensors_\u001b[49m\u001b[43m,\u001b[49m\u001b[43m \u001b[49m\u001b[43mretain_graph\u001b[49m\u001b[43m,\u001b[49m\u001b[43m \u001b[49m\u001b[43mcreate_graph\u001b[49m\u001b[43m,\u001b[49m\u001b[43m \u001b[49m\u001b[43minputs\u001b[49m\u001b[43m,\u001b[49m\n\u001b[0;32m    202\u001b[0m \u001b[43m    \u001b[49m\u001b[43mallow_unreachable\u001b[49m\u001b[38;5;241;43m=\u001b[39;49m\u001b[38;5;28;43;01mTrue\u001b[39;49;00m\u001b[43m,\u001b[49m\u001b[43m \u001b[49m\u001b[43maccumulate_grad\u001b[49m\u001b[38;5;241;43m=\u001b[39;49m\u001b[38;5;28;43;01mTrue\u001b[39;49;00m\u001b[43m)\u001b[49m\n",
      "\u001b[1;31mKeyboardInterrupt\u001b[0m: "
     ]
    }
   ],
   "source": [
    "train_loss = []\n",
    "valid_loss = []\n",
    "\n",
    "for epoch in range(epochs):\n",
    "    \n",
    "    t_loss = train_epoch(train_loader)\n",
    "    v_loss = valid_epoch(valid_loader)\n",
    "    train_loss.append(t_loss)\n",
    "    valid_loss.append(v_loss)\n",
    "    print(f\"epoch: {epoch} | train: {t_loss}, valid: {v_loss}\")"
   ]
  },
  {
   "cell_type": "code",
   "execution_count": 60,
   "metadata": {},
   "outputs": [
    {
     "data": {
      "image/png": "[encoded data removed]",
      "text/plain": [
       "<Figure size 1000x500 with 1 Axes>"
      ]
     },
     "metadata": {},
     "output_type": "display_data"
    }
   ],
   "source": [
    "plt.figure(figsize=(10,5))\n",
    "plt.plot([float(loss) for loss in train_loss], label='Train Loss')\n",
    "plt.plot([float(loss) for loss in valid_loss], label='Valid Loss')\n",
    "# plt.plot([float(lr[0]) for lr in learning_rates], label='Learning Rate')\n",
    "\n",
    "plt.xlabel(\"epochs\")\n",
    "plt.ylabel(\"loss\")\n",
    "plt.legend()\n",
    "plt.show()"
   ]
  },
  {
   "cell_type": "code",
   "execution_count": 61,
   "metadata": {},
   "outputs": [],
   "source": [
    "with torch.no_grad():\n",
    "    data = train_loader.__iter__().__next__()\n",
    "    x = data['input_data'].to(device)\n",
    "    y = data['output_color']\n",
    "    output = model.forward(x)"
   ]
  },
  {
   "cell_type": "code",
   "execution_count": 62,
   "metadata": {},
   "outputs": [
    {
     "name": "stdout",
     "output_type": "stream",
     "text": [
      "torch.Size([4, 12])\n",
      "tensor([[ 67.,  41.,  24., 111.,  43.,  28.,  79.,  84.,  55., 116.,  82.,  72.],\n",
      "        [ 46.,  56.,  32.,  90.,  62.,  25.,  80.,  92.,  98., 118.,  91.,  51.],\n",
      "        [ 40.,  42.,  36.,  69.,  66.,  50.,  55.,  69.,  71.,  83.,  96.,  97.],\n",
      "        [ 52.,  67.,  97., 185.,  65., 136., 172., 174.,  80., 227., 155., 220.]],\n",
      "       device='cuda:0')\n"
     ]
    }
   ],
   "source": [
    "print(x[:,:12].shape)\n",
    "print(x[:,:12])"
   ]
  },
  {
   "cell_type": "code",
   "execution_count": 69,
   "metadata": {},
   "outputs": [
    {
     "data": {
      "text/plain": [
       "tensor([[[ 46.,  56.,  32.]],\n",
       "\n",
       "        [[ 90.,  62.,  25.]],\n",
       "\n",
       "        [[ 80.,  92.,  98.]],\n",
       "\n",
       "        [[118.,  91.,  51.]]], device='cuda:0')"
      ]
     },
     "execution_count": 69,
     "metadata": {},
     "output_type": "execute_result"
    }
   ],
   "source": [
    "x[:,:12][1].reshape((4,1,3))"
   ]
  },
  {
   "cell_type": "code",
   "execution_count": 63,
   "metadata": {},
   "outputs": [
    {
     "name": "stdout",
     "output_type": "stream",
     "text": [
      "tensor([[ 17.1860,  85.0430,  91.7650],\n",
      "        [ 97.0210,  40.5170,  45.4900],\n",
      "        [ 23.0770,  24.0740,  42.3530],\n",
      "        [138.1510,  58.6210,  79.6080]])\n",
      "tensor([[ 43.7148,  58.9124,  74.2187],\n",
      "        [106.4275,  44.6307,  56.7505],\n",
      "        [132.5824,  23.3827,  58.4225],\n",
      "        [166.5899,  33.7555,  72.8389]], device='cuda:0')\n"
     ]
    }
   ],
   "source": [
    "print(y)\n",
    "print(output)"
   ]
  },
  {
   "cell_type": "code",
   "execution_count": 66,
   "metadata": {},
   "outputs": [],
   "source": [
    "import colorsys\n",
    "\n",
    "def hsv_to_rgb(hsv_array):\n",
    "    rgb_array = np.zeros_like(hsv_array)\n",
    "\n",
    "    for i in range(hsv_array.shape[0]):\n",
    "        h, s, v = hsv_array[i] / np.array([360.0, 100.0, 100.0])\n",
    "        r, g, b = colorsys.hsv_to_rgb(h.item(), s.item(), v.item())\n",
    "        rgb_array = np.array([r*255, g*255, b*255])\n",
    "    \n",
    "    return rgb_array"
   ]
  },
  {
   "cell_type": "code",
   "execution_count": 70,
   "metadata": {},
   "outputs": [
    {
     "data": {
      "image/png": "[encoded data removed]",
      "text/plain": [
       "<Figure size 640x480 with 4 Axes>"
      ]
     },
     "metadata": {},
     "output_type": "display_data"
    }
   ],
   "source": [
    "batch_size = 4\n",
    "for b in range(batch_size):\n",
    "    rgb = x[:,:12][b].type(torch.int).cpu().detach().numpy().reshape((4,1,3)) # input colors\n",
    "    label = y[b].type(torch.int).numpy().reshape((1,3)) # label color\n",
    "    label = hsv_to_rgb(label)\n",
    "    val = output[b].type(torch.int).cpu().detach().numpy().reshape((1,3)) # return color\n",
    "    val = hsv_to_rgb(val)\n",
    "    \n",
    "    plt.subplot(batch_size, 3, b*3 + 1)\n",
    "    plt.imshow([rgb[i] for i in range(4)])\n",
    "    plt.axis(False)"
   ]
  },
  {
   "cell_type": "code",
   "execution_count": 72,
   "metadata": {},
   "outputs": [],
   "source": [
    "PATH = './Model/model.pt'\n",
    "torch.save(model.state_dict(), PATH)"
   ]
  },
  {
   "cell_type": "code",
   "execution_count": 73,
   "metadata": {},
   "outputs": [
    {
     "data": {
      "text/plain": [
       "LassoModel(\n",
       "  (normalize): LayerNorm((119,), eps=1e-05, elementwise_affine=True)\n",
       "  (linear): Linear(in_features=119, out_features=3, bias=True)\n",
       ")"
      ]
     },
     "execution_count": 73,
     "metadata": {},
     "output_type": "execute_result"
    }
   ],
   "source": [
    "model"
   ]
  },
  {
   "cell_type": "code",
   "execution_count": null,
   "metadata": {},
   "outputs": [],
   "source": []
  }
 ],
 "metadata": {
  "kernelspec": {
   "display_name": "kjk_py39",
   "language": "python",
   "name": "python3"
  },
  "language_info": {
   "codemirror_mode": {
    "name": "ipython",
    "version": 3
   },
   "file_extension": ".py",
   "mimetype": "text/x-python",
   "name": "python",
   "nbconvert_exporter": "python",
   "pygments_lexer": "ipython3",
   "version": "3.9.15"
  }
 },
 "nbformat": 4,
 "nbformat_minor": 2
}

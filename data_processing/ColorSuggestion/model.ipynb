{
 "cells": [
  {
   "cell_type": "code",
   "execution_count": 1,
   "metadata": {},
   "outputs": [
    {
     "name": "stderr",
     "output_type": "stream",
     "text": [
      "c:\\Users\\mlfav\\anaconda3\\envs\\kjk_py39\\lib\\site-packages\\tqdm\\auto.py:21: TqdmWarning: IProgress not found. Please update jupyter and ipywidgets. See https://ipywidgets.readthedocs.io/en/stable/user_install.html\n",
      "  from .autonotebook import tqdm as notebook_tqdm\n"
     ]
    }
   ],
   "source": [
    "import torch\n",
    "from datasets import load_dataset\n",
    "from torch.utils.data import DataLoader\n",
    "import numpy as np\n",
    "import matplotlib.pyplot as plt\n",
    "from torch.utils.data import random_split\n",
    "import torch.nn as nn"
   ]
  },
  {
   "cell_type": "code",
   "execution_count": 2,
   "metadata": {},
   "outputs": [
    {
     "data": {
      "text/plain": [
       "device(type='cuda')"
      ]
     },
     "execution_count": 2,
     "metadata": {},
     "output_type": "execute_result"
    }
   ],
   "source": [
    "device = torch.device('cuda' if torch.cuda.is_available() else 'cpu')\n",
    "device"
   ]
  },
  {
   "cell_type": "code",
   "execution_count": 3,
   "metadata": {},
   "outputs": [
    {
     "name": "stderr",
     "output_type": "stream",
     "text": [
      "c:\\Users\\mlfav\\anaconda3\\envs\\kjk_py39\\lib\\site-packages\\datasets\\load.py:922: FutureWarning: The repository for ColorSuggestion contains custom code which must be executed to correctly load the dataset. You can inspect the repository content at C:\\Users\\mlfav\\lib\\shlee\\color_model\\ColorSuggestion\\ColorSuggestion.py\n",
      "You can avoid this message in future by passing the argument `trust_remote_code=True`.\n",
      "Passing `trust_remote_code=True` will be mandatory to load this dataset from the next major release of `datasets`.\n",
      "  warnings.warn(\n"
     ]
    },
    {
     "data": {
      "text/plain": [
       "(57243, 16)"
      ]
     },
     "execution_count": 3,
     "metadata": {},
     "output_type": "execute_result"
    }
   ],
   "source": [
    "dataset = load_dataset(path=r\"C:\\Users\\mlfav\\lib\\shlee\\color_model\\ColorSuggestion\", split=\"train\")\n",
    "dataset.set_format(type=\"torch\", columns=[\"input_data\", \"output_color\"], dtype=torch.float32)\n",
    "dataset.shape"
   ]
  },
  {
   "cell_type": "code",
   "execution_count": 4,
   "metadata": {},
   "outputs": [
    {
     "data": {
      "text/plain": [
       "(34345, 22898)"
      ]
     },
     "execution_count": 4,
     "metadata": {},
     "output_type": "execute_result"
    }
   ],
   "source": [
    "total_size = len(dataset)\n",
    "train_size = int(total_size * 0.6)\n",
    "valid_size = total_size - train_size\n",
    "train_data, valid_data = random_split(dataset, [train_size, valid_size])\n",
    "train_size, valid_size"
   ]
  },
  {
   "cell_type": "code",
   "execution_count": 45,
   "metadata": {},
   "outputs": [],
   "source": [
    "train_loader = DataLoader(train_data, batch_size=1, shuffle=True, num_workers=2, drop_last=True)\n",
    "valid_loader = DataLoader(valid_data, batch_size=1, shuffle=True, num_workers=2, drop_last=True)"
   ]
  },
  {
   "cell_type": "code",
   "execution_count": 46,
   "metadata": {},
   "outputs": [
    {
     "data": {
      "text/plain": [
       "119"
      ]
     },
     "execution_count": 46,
     "metadata": {},
     "output_type": "execute_result"
    }
   ],
   "source": [
    "data = train_loader.__iter__().__next__()\n",
    "input_size = data['input_data'].shape[1]\n",
    "input_size"
   ]
  },
  {
   "cell_type": "code",
   "execution_count": 47,
   "metadata": {},
   "outputs": [
    {
     "data": {
      "text/plain": [
       "tensor([[137.1430,  22.8260,  36.0780]])"
      ]
     },
     "execution_count": 47,
     "metadata": {},
     "output_type": "execute_result"
    }
   ],
   "source": [
    "output_size = data['output_color']\n",
    "output_size"
   ]
  },
  {
   "cell_type": "code",
   "execution_count": 74,
   "metadata": {},
   "outputs": [],
   "source": [
    "class LassoModel(nn.Module):\n",
    "    def __init__(self, input_size, alpha):\n",
    "        super(LassoModel, self).__init__()\n",
    "        self.linear = nn.Linear(input_size, 1)\n",
    "        self.alpha = alpha\n",
    "\n",
    "    def forward(self, x):\n",
    "        x = self.linear(x)\n",
    "        return x"
   ]
  },
  {
   "cell_type": "code",
   "execution_count": 75,
   "metadata": {},
   "outputs": [],
   "source": [
    "class LassoLoss(nn.Module):\n",
    "    def __init__(self, alpha):\n",
    "        super(LassoLoss, self).__init__()\n",
    "        self.alpha = alpha\n",
    "\n",
    "    def forward(self, y_pred, y_true, model):\n",
    "        mse_loss = nn.functional.mse_loss(y_pred, y_true)\n",
    "\n",
    "        l1_regularization = self.alpha * torch.sum(torch.abs(model.linear.weight))\n",
    "        \n",
    "        total_loss = mse_loss + l1_regularization\n",
    "\n",
    "        return total_loss"
   ]
  },
  {
   "cell_type": "code",
   "execution_count": 76,
   "metadata": {},
   "outputs": [],
   "source": [
    "epochs = 100\n",
    "learning_rate = 0.0002"
   ]
  },
  {
   "cell_type": "code",
   "execution_count": 77,
   "metadata": {},
   "outputs": [],
   "source": [
    "alpha = 0.01\n",
    "model = LassoModel(input_size, alpha).to(device)\n",
    "\n",
    "criterion = LassoLoss(alpha)\n",
    "optimizer = torch.optim.SGD(model.parameters(), lr=learning_rate)\n"
   ]
  },
  {
   "cell_type": "code",
   "execution_count": 78,
   "metadata": {},
   "outputs": [],
   "source": [
    "learning_rates = []"
   ]
  },
  {
   "cell_type": "code",
   "execution_count": 79,
   "metadata": {},
   "outputs": [],
   "source": [
    "def train_epoch(train_loader):\n",
    "    train_loss = []\n",
    "    for data in train_loader:\n",
    "        x = data['input_data'].to(device)\n",
    "        y = data['output_color'].to(device)\n",
    "\n",
    "        output = model.forward(x)\n",
    "        loss = criterion(output, y, model)\n",
    "\n",
    "        l1_regularization = torch.sum(torch.abs(model.linear.weight))\n",
    "        loss += alpha * l1_regularization\n",
    "\n",
    "        optimizer.zero_grad()\n",
    "        loss.backward()\n",
    "        optimizer.step()\n",
    "\n",
    "        train_loss.append(loss.cpu().detach().numpy())\n",
    "\n",
    "    return np.array(train_loss).mean()\n",
    "\n",
    "def valid_epoch(valid_loader):\n",
    "    valid_loss = []\n",
    "    for data in valid_loader:\n",
    "        x = data['input_data'].to(device)\n",
    "        y = data['output_color'].to(device)\n",
    "\n",
    "        output = model.forward(x)\n",
    "        loss = criterion(output, y, model)\n",
    "        valid_loss.append(loss.cpu().detach().numpy())\n",
    "    return np.array(valid_loss).mean()"
   ]
  },
  {
   "cell_type": "code",
   "execution_count": 80,
   "metadata": {},
   "outputs": [
    {
     "name": "stderr",
     "output_type": "stream",
     "text": [
      "C:\\Users\\mlfav\\AppData\\Local\\Temp\\ipykernel_12864\\2528880567.py:7: UserWarning: Using a target size (torch.Size([1, 3])) that is different to the input size (torch.Size([1, 1])). This will likely lead to incorrect results due to broadcasting. Please ensure they have the same size.\n",
      "  mse_loss = nn.functional.mse_loss(y_pred, y_true)\n"
     ]
    }
   ],
   "source": [
    "train_loss = []\n",
    "valid_loss = []\n",
    "\n",
    "for epoch in range(epochs):\n",
    "    \n",
    "    t_loss = train_epoch(train_loader)\n",
    "    v_loss = valid_epoch(valid_loader)\n",
    "    train_loss.append(t_loss)\n",
    "    valid_loss.append(v_loss)\n",
    "    print(f\"train: {t_loss}, valid: {v_loss}\")"
   ]
  },
  {
   "cell_type": "code",
   "execution_count": null,
   "metadata": {},
   "outputs": [],
   "source": [
    "plt.figure(figsize=(10,5))\n",
    "plt.plot([float(loss) for loss in train_loss], label='Train Loss')\n",
    "plt.plot([float(loss) for loss in valid_loss], label='Valid Loss')\n",
    "# plt.plot([float(lr[0]) for lr in learning_rates], label='Learning Rate')\n",
    "\n",
    "plt.xlabel(\"epochs\")\n",
    "plt.ylabel(\"loss\")\n",
    "plt.legend()\n",
    "plt.show()"
   ]
  },
  {
   "cell_type": "code",
   "execution_count": null,
   "metadata": {},
   "outputs": [],
   "source": []
  },
  {
   "cell_type": "code",
   "execution_count": 121,
   "metadata": {},
   "outputs": [],
   "source": [
    "with torch.no_grad():\n",
    "    x = data['input_data'].to(device)\n",
    "    y = data['output_color']\n",
    "    output = model.forward(x)"
   ]
  },
  {
   "cell_type": "code",
   "execution_count": 122,
   "metadata": {},
   "outputs": [
    {
     "name": "stdout",
     "output_type": "stream",
     "text": [
      "tensor([[20.0000, 63.5760, 59.2160],\n",
      "        [17.5000, 23.8810, 78.8240],\n",
      "        [30.0000, 29.2680, 64.3140],\n",
      "        [28.6960, 32.8570, 54.9020]])\n",
      "tensor([136.9935,  44.5627,  64.0430], device='cuda:0')\n"
     ]
    }
   ],
   "source": [
    "print(y)\n",
    "print(output)"
   ]
  },
  {
   "cell_type": "code",
   "execution_count": 119,
   "metadata": {},
   "outputs": [
    {
     "data": {
      "text/plain": [
       "array([[[ 56,  53,  48]],\n",
       "\n",
       "       [[ 30,  89, 120]],\n",
       "\n",
       "       [[137,  95,  52]],\n",
       "\n",
       "       [[185,  76,   4]]])"
      ]
     },
     "execution_count": 119,
     "metadata": {},
     "output_type": "execute_result"
    }
   ],
   "source": [
    "rgb = RGB[0].type(torch.int).cpu().detach().numpy().reshape((4,1,3))\n",
    "label = y[0].type(torch.int).numpy().reshape((1,3))\n",
    "val = output.type(torch.int).cpu().detach().numpy()\n",
    "rgb"
   ]
  },
  {
   "cell_type": "code",
   "execution_count": 120,
   "metadata": {},
   "outputs": [
    {
     "data": {
      "image/png": "[encoded data removed]",
      "text/plain": [
       "<Figure size 640x480 with 4 Axes>"
      ]
     },
     "metadata": {},
     "output_type": "display_data"
    }
   ],
   "source": [
    "for i in range(4):\n",
    "    a = rgb[i].reshape((1,3))\n",
    "    plt.subplot(1,4,i+1)\n",
    "    plt.imshow([a])\n",
    "    plt.axis(False)"
   ]
  },
  {
   "cell_type": "code",
   "execution_count": null,
   "metadata": {},
   "outputs": [],
   "source": []
  }
 ],
 "metadata": {
  "kernelspec": {
   "display_name": "kjk_py39",
   "language": "python",
   "name": "python3"
  },
  "language_info": {
   "codemirror_mode": {
    "name": "ipython",
    "version": 3
   },
   "file_extension": ".py",
   "mimetype": "text/x-python",
   "name": "python",
   "nbconvert_exporter": "python",
   "pygments_lexer": "ipython3",
   "version": "3.9.15"
  }
 },
 "nbformat": 4,
 "nbformat_minor": 2
}
